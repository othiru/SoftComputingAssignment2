{
  "nbformat": 4,
  "nbformat_minor": 0,
  "metadata": {
    "colab": {
      "name": "Soft Computing (Offline 2).ipynb",
      "provenance": [],
      "collapsed_sections": [
        "aoBgG9eIRMVs"
      ]
    },
    "kernelspec": {
      "display_name": "Python 3",
      "name": "python3"
    },
    "language_info": {
      "name": "python"
    },
    "accelerator": "GPU"
  },
  "cells": [
    {
      "cell_type": "markdown",
      "metadata": {
        "id": "X5-4GFDXuChh"
      },
      "source": [
        "# **Assignment 2 (Deep Neural Networks) - 160204107**"
      ]
    },
    {
      "cell_type": "markdown",
      "metadata": {
        "id": "Y2Bxhm2GuIDF"
      },
      "source": [
        "**Libraries**"
      ]
    },
    {
      "cell_type": "code",
      "metadata": {
        "id": "cOFePX-pp9fi"
      },
      "source": [
        "import pandas as pd\n",
        "import numpy as np\n",
        "import matplotlib.pyplot as plt\n",
        "import math\n",
        "\n",
        "import cv2\n",
        "import os\n",
        "\n",
        "import torch\n",
        "import torch.nn as nn\n",
        "import torchvision\n",
        "import torchvision.transforms as transforms\n",
        "\n",
        "import re\n",
        "from PIL import Image\n",
        "import pickle"
      ],
      "execution_count": 1,
      "outputs": []
    },
    {
      "cell_type": "markdown",
      "metadata": {
        "id": "XUK0viGsDhGI"
      },
      "source": [
        "## **Step - 1**"
      ]
    },
    {
      "cell_type": "markdown",
      "metadata": {
        "id": "LCWQ8eX8Q8vO"
      },
      "source": [
        "### **Drive and Directories**"
      ]
    },
    {
      "cell_type": "markdown",
      "metadata": {
        "id": "YUz2ADpFD2gQ"
      },
      "source": [
        "**Mount Drive**"
      ]
    },
    {
      "cell_type": "code",
      "metadata": {
        "colab": {
          "base_uri": "https://localhost:8080/"
        },
        "id": "WZlYhojBD5aM",
        "outputId": "ac5ceb42-1ab3-4999-a6ec-924efc4a994a"
      },
      "source": [
        "from google.colab import drive\n",
        "drive.mount('/content/drive')"
      ],
      "execution_count": 2,
      "outputs": [
        {
          "output_type": "stream",
          "name": "stdout",
          "text": [
            "Mounted at /content/drive\n"
          ]
        }
      ]
    },
    {
      "cell_type": "markdown",
      "metadata": {
        "id": "xIp8dq1oDsWx"
      },
      "source": [
        "**Directories**"
      ]
    },
    {
      "cell_type": "code",
      "metadata": {
        "colab": {
          "base_uri": "https://localhost:8080/",
          "height": 424
        },
        "id": "7LE6KS82DwC5",
        "outputId": "ab4283ef-60e0-4b00-93dd-6ee2cc1acbcf"
      },
      "source": [
        "directory = r'/content/drive/MyDrive/Soft Computing 4.2/Deep Neural Networks Dataset/'\n",
        "img_folder = r'/content/drive/MyDrive/Soft Computing 4.2/Deep Neural Networks Dataset/training-c'\n",
        "df = pd.read_csv('/content/drive/MyDrive/Soft Computing 4.2/Deep Neural Networks Dataset/training-c.csv')\n",
        "df2_Train = pd.read_csv('/content/drive/MyDrive/Soft Computing 4.2/Deep Neural Networks Dataset/verification_train.csv')\n",
        "df2_Test = pd.read_csv('/content/drive/MyDrive/Soft Computing 4.2/Deep Neural Networks Dataset/verification_test.csv')\n",
        "df"
      ],
      "execution_count": 5,
      "outputs": [
        {
          "output_type": "execute_result",
          "data": {
            "text/html": [
              "<div>\n",
              "<style scoped>\n",
              "    .dataframe tbody tr th:only-of-type {\n",
              "        vertical-align: middle;\n",
              "    }\n",
              "\n",
              "    .dataframe tbody tr th {\n",
              "        vertical-align: top;\n",
              "    }\n",
              "\n",
              "    .dataframe thead th {\n",
              "        text-align: right;\n",
              "    }\n",
              "</style>\n",
              "<table border=\"1\" class=\"dataframe\">\n",
              "  <thead>\n",
              "    <tr style=\"text-align: right;\">\n",
              "      <th></th>\n",
              "      <th>filename</th>\n",
              "      <th>original filename</th>\n",
              "      <th>scanid</th>\n",
              "      <th>digit</th>\n",
              "      <th>database name original</th>\n",
              "      <th>contributing team</th>\n",
              "      <th>database name</th>\n",
              "    </tr>\n",
              "  </thead>\n",
              "  <tbody>\n",
              "    <tr>\n",
              "      <th>0</th>\n",
              "      <td>c00000.png</td>\n",
              "      <td>Scan_280_digit_6_num_7.png</td>\n",
              "      <td>280</td>\n",
              "      <td>6</td>\n",
              "      <td>OngkoDB</td>\n",
              "      <td>Buet_Backpropers</td>\n",
              "      <td>training-c</td>\n",
              "    </tr>\n",
              "    <tr>\n",
              "      <th>1</th>\n",
              "      <td>c00001.png</td>\n",
              "      <td>Scan_29_digit_1_num_1.png</td>\n",
              "      <td>29</td>\n",
              "      <td>1</td>\n",
              "      <td>OngkoDB</td>\n",
              "      <td>Buet_Backpropers</td>\n",
              "      <td>training-c</td>\n",
              "    </tr>\n",
              "    <tr>\n",
              "      <th>2</th>\n",
              "      <td>c00002.png</td>\n",
              "      <td>Scan_131_digit_3_num_1.png</td>\n",
              "      <td>131</td>\n",
              "      <td>3</td>\n",
              "      <td>OngkoDB</td>\n",
              "      <td>Buet_Backpropers</td>\n",
              "      <td>training-c</td>\n",
              "    </tr>\n",
              "    <tr>\n",
              "      <th>3</th>\n",
              "      <td>c00003.png</td>\n",
              "      <td>Scan_160_digit_2_num_2.png</td>\n",
              "      <td>160</td>\n",
              "      <td>2</td>\n",
              "      <td>OngkoDB</td>\n",
              "      <td>Buet_Backpropers</td>\n",
              "      <td>training-c</td>\n",
              "    </tr>\n",
              "    <tr>\n",
              "      <th>4</th>\n",
              "      <td>c00004.png</td>\n",
              "      <td>Scan_202_digit_7_num_0.png</td>\n",
              "      <td>202</td>\n",
              "      <td>7</td>\n",
              "      <td>OngkoDB</td>\n",
              "      <td>Buet_Backpropers</td>\n",
              "      <td>training-c</td>\n",
              "    </tr>\n",
              "    <tr>\n",
              "      <th>...</th>\n",
              "      <td>...</td>\n",
              "      <td>...</td>\n",
              "      <td>...</td>\n",
              "      <td>...</td>\n",
              "      <td>...</td>\n",
              "      <td>...</td>\n",
              "      <td>...</td>\n",
              "    </tr>\n",
              "    <tr>\n",
              "      <th>24293</th>\n",
              "      <td>c24293.png</td>\n",
              "      <td>Scan_167_digit_3_num_4.png</td>\n",
              "      <td>167</td>\n",
              "      <td>3</td>\n",
              "      <td>OngkoDB</td>\n",
              "      <td>Buet_Backpropers</td>\n",
              "      <td>training-c</td>\n",
              "    </tr>\n",
              "    <tr>\n",
              "      <th>24294</th>\n",
              "      <td>c24294.png</td>\n",
              "      <td>Scan_174_digit_2_num_8.png</td>\n",
              "      <td>174</td>\n",
              "      <td>2</td>\n",
              "      <td>OngkoDB</td>\n",
              "      <td>Buet_Backpropers</td>\n",
              "      <td>training-c</td>\n",
              "    </tr>\n",
              "    <tr>\n",
              "      <th>24295</th>\n",
              "      <td>c24295.png</td>\n",
              "      <td>Scan_152_digit_7_num_4.png</td>\n",
              "      <td>152</td>\n",
              "      <td>7</td>\n",
              "      <td>OngkoDB</td>\n",
              "      <td>Buet_Backpropers</td>\n",
              "      <td>training-c</td>\n",
              "    </tr>\n",
              "    <tr>\n",
              "      <th>24296</th>\n",
              "      <td>c24296.png</td>\n",
              "      <td>Scan_123_digit_2_num_2.png</td>\n",
              "      <td>123</td>\n",
              "      <td>2</td>\n",
              "      <td>OngkoDB</td>\n",
              "      <td>Buet_Backpropers</td>\n",
              "      <td>training-c</td>\n",
              "    </tr>\n",
              "    <tr>\n",
              "      <th>24297</th>\n",
              "      <td>c24297.png</td>\n",
              "      <td>Scan_2_digit_7_num_6.png</td>\n",
              "      <td>2</td>\n",
              "      <td>7</td>\n",
              "      <td>OngkoDB</td>\n",
              "      <td>Buet_Backpropers</td>\n",
              "      <td>training-c</td>\n",
              "    </tr>\n",
              "  </tbody>\n",
              "</table>\n",
              "<p>24298 rows × 7 columns</p>\n",
              "</div>"
            ],
            "text/plain": [
              "         filename           original filename  ...  contributing team  database name\n",
              "0      c00000.png  Scan_280_digit_6_num_7.png  ...   Buet_Backpropers     training-c\n",
              "1      c00001.png   Scan_29_digit_1_num_1.png  ...   Buet_Backpropers     training-c\n",
              "2      c00002.png  Scan_131_digit_3_num_1.png  ...   Buet_Backpropers     training-c\n",
              "3      c00003.png  Scan_160_digit_2_num_2.png  ...   Buet_Backpropers     training-c\n",
              "4      c00004.png  Scan_202_digit_7_num_0.png  ...   Buet_Backpropers     training-c\n",
              "...           ...                         ...  ...                ...            ...\n",
              "24293  c24293.png  Scan_167_digit_3_num_4.png  ...   Buet_Backpropers     training-c\n",
              "24294  c24294.png  Scan_174_digit_2_num_8.png  ...   Buet_Backpropers     training-c\n",
              "24295  c24295.png  Scan_152_digit_7_num_4.png  ...   Buet_Backpropers     training-c\n",
              "24296  c24296.png  Scan_123_digit_2_num_2.png  ...   Buet_Backpropers     training-c\n",
              "24297  c24297.png    Scan_2_digit_7_num_6.png  ...   Buet_Backpropers     training-c\n",
              "\n",
              "[24298 rows x 7 columns]"
            ]
          },
          "metadata": {},
          "execution_count": 5
        }
      ]
    },
    {
      "cell_type": "markdown",
      "metadata": {
        "id": "b1jxaCh4LUZv"
      },
      "source": [
        "### **Read Dataset-1**"
      ]
    },
    {
      "cell_type": "code",
      "metadata": {
        "colab": {
          "base_uri": "https://localhost:8080/",
          "height": 424
        },
        "id": "nEoAt-TqFdnx",
        "outputId": "7860ea86-8fb2-4568-9148-998dfeb98302"
      },
      "source": [
        "df = df[['filename','digit']]\n",
        "df"
      ],
      "execution_count": 6,
      "outputs": [
        {
          "output_type": "execute_result",
          "data": {
            "text/html": [
              "<div>\n",
              "<style scoped>\n",
              "    .dataframe tbody tr th:only-of-type {\n",
              "        vertical-align: middle;\n",
              "    }\n",
              "\n",
              "    .dataframe tbody tr th {\n",
              "        vertical-align: top;\n",
              "    }\n",
              "\n",
              "    .dataframe thead th {\n",
              "        text-align: right;\n",
              "    }\n",
              "</style>\n",
              "<table border=\"1\" class=\"dataframe\">\n",
              "  <thead>\n",
              "    <tr style=\"text-align: right;\">\n",
              "      <th></th>\n",
              "      <th>filename</th>\n",
              "      <th>digit</th>\n",
              "    </tr>\n",
              "  </thead>\n",
              "  <tbody>\n",
              "    <tr>\n",
              "      <th>0</th>\n",
              "      <td>c00000.png</td>\n",
              "      <td>6</td>\n",
              "    </tr>\n",
              "    <tr>\n",
              "      <th>1</th>\n",
              "      <td>c00001.png</td>\n",
              "      <td>1</td>\n",
              "    </tr>\n",
              "    <tr>\n",
              "      <th>2</th>\n",
              "      <td>c00002.png</td>\n",
              "      <td>3</td>\n",
              "    </tr>\n",
              "    <tr>\n",
              "      <th>3</th>\n",
              "      <td>c00003.png</td>\n",
              "      <td>2</td>\n",
              "    </tr>\n",
              "    <tr>\n",
              "      <th>4</th>\n",
              "      <td>c00004.png</td>\n",
              "      <td>7</td>\n",
              "    </tr>\n",
              "    <tr>\n",
              "      <th>...</th>\n",
              "      <td>...</td>\n",
              "      <td>...</td>\n",
              "    </tr>\n",
              "    <tr>\n",
              "      <th>24293</th>\n",
              "      <td>c24293.png</td>\n",
              "      <td>3</td>\n",
              "    </tr>\n",
              "    <tr>\n",
              "      <th>24294</th>\n",
              "      <td>c24294.png</td>\n",
              "      <td>2</td>\n",
              "    </tr>\n",
              "    <tr>\n",
              "      <th>24295</th>\n",
              "      <td>c24295.png</td>\n",
              "      <td>7</td>\n",
              "    </tr>\n",
              "    <tr>\n",
              "      <th>24296</th>\n",
              "      <td>c24296.png</td>\n",
              "      <td>2</td>\n",
              "    </tr>\n",
              "    <tr>\n",
              "      <th>24297</th>\n",
              "      <td>c24297.png</td>\n",
              "      <td>7</td>\n",
              "    </tr>\n",
              "  </tbody>\n",
              "</table>\n",
              "<p>24298 rows × 2 columns</p>\n",
              "</div>"
            ],
            "text/plain": [
              "         filename  digit\n",
              "0      c00000.png      6\n",
              "1      c00001.png      1\n",
              "2      c00002.png      3\n",
              "3      c00003.png      2\n",
              "4      c00004.png      7\n",
              "...           ...    ...\n",
              "24293  c24293.png      3\n",
              "24294  c24294.png      2\n",
              "24295  c24295.png      7\n",
              "24296  c24296.png      2\n",
              "24297  c24297.png      7\n",
              "\n",
              "[24298 rows x 2 columns]"
            ]
          },
          "metadata": {},
          "execution_count": 6
        }
      ]
    },
    {
      "cell_type": "markdown",
      "metadata": {
        "id": "aoBgG9eIRMVs"
      },
      "source": [
        "### **Dataset-1 Creation and Save (One Time Run)**"
      ]
    },
    {
      "cell_type": "markdown",
      "metadata": {
        "id": "xUGgAwzIb95S"
      },
      "source": [
        "**Image and Digit Data Creation**"
      ]
    },
    {
      "cell_type": "code",
      "metadata": {
        "id": "MamFtFry1dqN"
      },
      "source": [
        "img_digit = []\n",
        "dimention = (180,180)\n",
        "\n",
        "transformer=transforms.Compose([\n",
        "    transforms.Resize(dimention),\n",
        "    transforms.ToTensor(),\n",
        "    transforms.Normalize([0.5], [0.5])                         \n",
        "])\n",
        "\n",
        "for name in os.listdir(img_folder):\n",
        "    # Image name and digit from csv file\n",
        "    index = re.split('c| |\\.',name)\n",
        "    index = int(index[1])\n",
        "    digit_label = df['digit'][index]\n",
        "    \n",
        "    # Open an image using PIL library\n",
        "    image_dir = os.path.join(img_folder, name)\n",
        "    image = Image.open(image_dir)\n",
        "\n",
        "    # Tensor transformation and normalization\n",
        "    image_Ttrans = transformer(image)\n",
        "    img_digit.append((image_Ttrans,digit_label))"
      ],
      "execution_count": null,
      "outputs": []
    },
    {
      "cell_type": "markdown",
      "metadata": {
        "id": "Oc3dSF1YCvvi"
      },
      "source": [
        "**Save Image and Digit Data in a Binary File**"
      ]
    },
    {
      "cell_type": "code",
      "metadata": {
        "id": "4C6O-ZQHCGlJ"
      },
      "source": [
        "with open(directory+'image_digit_data', 'wb') as file:\n",
        "  pickle.dump(img_digit, file)"
      ],
      "execution_count": null,
      "outputs": []
    },
    {
      "cell_type": "markdown",
      "metadata": {
        "id": "oesdshjxRdxP"
      },
      "source": [
        "### **Load Dataset**"
      ]
    },
    {
      "cell_type": "markdown",
      "metadata": {
        "id": "nS60gFeIDMBM"
      },
      "source": [
        "**Load Image and Digit Data from a Binary File**"
      ]
    },
    {
      "cell_type": "code",
      "metadata": {
        "id": "_Q8PGrQDDLAV"
      },
      "source": [
        "with open(directory+'image_digit_data', 'rb') as file:\n",
        "  img_digit = pickle.load(file)"
      ],
      "execution_count": 7,
      "outputs": []
    },
    {
      "cell_type": "markdown",
      "metadata": {
        "id": "u36_d4q2LfwM"
      },
      "source": [
        "## **Step - 2**"
      ]
    },
    {
      "cell_type": "markdown",
      "metadata": {
        "id": "36BOfAEhLjyr"
      },
      "source": [
        "### **Train & Test Creation (Dataset - 1)**"
      ]
    },
    {
      "cell_type": "code",
      "metadata": {
        "colab": {
          "base_uri": "https://localhost:8080/"
        },
        "id": "t8slH0Uvij-r",
        "outputId": "9af0dd27-cfda-4ca6-bfe7-36f88ab3c710"
      },
      "source": [
        "df_Train, df_Test = torch.utils.data.random_split(img_digit, (round(len(img_digit)*0.8),round(len(img_digit)*0.2)), generator=torch.Generator().manual_seed(107))\n",
        "\n",
        "print('Total Data: ', len(img_digit))\n",
        "print('Train Data: ', len(df_Train))\n",
        "print('Test Data: ', len(df_Test))\n",
        "\n",
        "df_Train[0]"
      ],
      "execution_count": 8,
      "outputs": [
        {
          "output_type": "stream",
          "name": "stdout",
          "text": [
            "Total Data:  24298\n",
            "Train Data:  19438\n",
            "Test Data:  4860\n"
          ]
        },
        {
          "output_type": "execute_result",
          "data": {
            "text/plain": [
              "(tensor([[[0.8902, 0.9922, 1.0000,  ..., 0.9922, 1.0000, 1.0000],\n",
              "          [0.9137, 0.9922, 1.0000,  ..., 0.9922, 0.9922, 0.9922],\n",
              "          [0.9529, 0.9922, 0.9922,  ..., 1.0000, 1.0000, 0.9922],\n",
              "          ...,\n",
              "          [1.0000, 0.9922, 1.0000,  ..., 0.9922, 1.0000, 0.9922],\n",
              "          [1.0000, 1.0000, 1.0000,  ..., 1.0000, 0.9922, 0.9922],\n",
              "          [0.9922, 0.9922, 1.0000,  ..., 0.9922, 0.9922, 0.9922]]]), 0)"
            ]
          },
          "metadata": {},
          "execution_count": 8
        }
      ]
    },
    {
      "cell_type": "markdown",
      "metadata": {
        "id": "FSnI6DjWasfn"
      },
      "source": [
        "### **Model Creation**"
      ]
    },
    {
      "cell_type": "code",
      "metadata": {
        "id": "4R3aFoE1I2it"
      },
      "source": [
        "#Hidden layers\n",
        "class DeepNeuralNetworkModel(nn.Module):\n",
        "    def __init__(self, input_size, num_classes, num_hidden):\n",
        "        super().__init__()\n",
        "        ### 1st hidden layer: input_size --> 200\n",
        "        self.linear_1 = nn.Linear(input_size, num_hidden)\n",
        "        ### Non-linearity in 1st hidden layer\n",
        "        self.relu_1 = nn.ELU()\n",
        "\n",
        "        ### 2nd hidden layer: 200 --> 200\n",
        "        self.linear_2 = nn.Linear(num_hidden, num_hidden)\n",
        "        ### Non-linearity in 2nd hidden layer\n",
        "        self.relu_2 = nn.ELU()\n",
        "\n",
        "        ### 3rd hidden layer: 200 --> 200\n",
        "        self.linear_3 = nn.Linear(num_hidden, num_hidden)\n",
        "        ### Non-linearity in 3rd hidden layer\n",
        "        self.relu_3 = nn.ELU()\n",
        "\n",
        "        ### 4th hidden layer: 200 --> 200\n",
        "        self.linear_4 = nn.Linear(num_hidden, num_hidden)\n",
        "        ### Non-linearity in 4th hidden layer\n",
        "        self.relu_4 = nn.ELU()\n",
        "\n",
        "        ### 5th hidden layer: 200 --> 200\n",
        "        self.linear_5 = nn.Linear(num_hidden, num_hidden)\n",
        "        ### Non-linearity in 5th hidden layer\n",
        "        self.relu_5 = nn.ELU()\n",
        "\n",
        "        ### 6th hidden layer: 200 --> 200\n",
        "        self.linear_6 = nn.Linear(num_hidden, num_hidden)\n",
        "        ### Non-linearity in 6th hidden layer\n",
        "        self.relu_6 = nn.ELU()\n",
        "\n",
        "        ### Output layer: 200 --> output_size(10)\n",
        "        self.linear_out = nn.Linear(num_hidden, num_classes)\n",
        "\n",
        "    def forward(self, x):\n",
        "        ### 1st hidden layer\n",
        "        out  = self.linear_1(x)\n",
        "        ### Non-linearity in 1st hidden layer\n",
        "        out = self.relu_1(out)\n",
        "        \n",
        "        ### 2nd hidden layer\n",
        "        out  = self.linear_2(out)\n",
        "        ### Non-linearity in 2nd hidden layer\n",
        "        out = self.relu_2(out)\n",
        "\n",
        "        ### 3rd hidden layer\n",
        "        out  = self.linear_3(out)\n",
        "        ### Non-linearity in 3rd hidden layer\n",
        "        out = self.relu_3(out)\n",
        "\n",
        "        ### 4th hidden layer\n",
        "        out  = self.linear_4(out)\n",
        "        ### Non-linearity in 4th hidden layer\n",
        "        out = self.relu_4(out)\n",
        "\n",
        "        ### 5th hidden layer\n",
        "        out  = self.linear_5(out)\n",
        "        ### Non-linearity in 5th hidden layer\n",
        "        out = self.relu_5(out)\n",
        "\n",
        "        ### 6th hidden layer\n",
        "        out  = self.linear_6(out)\n",
        "        ### Non-linearity in 6th hidden layer\n",
        "        out = self.relu_6(out)\n",
        "        \n",
        "        # Linear layer (output)\n",
        "        probas  = self.linear_out(out)\n",
        "        return probas"
      ],
      "execution_count": 12,
      "outputs": []
    },
    {
      "cell_type": "markdown",
      "metadata": {
        "id": "YplbD1mSR3aR"
      },
      "source": [
        "### **Dataset - 1 (Model Build, Accuracy, Prediction)**"
      ]
    },
    {
      "cell_type": "markdown",
      "metadata": {
        "id": "_ZowiiPvSSeK"
      },
      "source": [
        "**Model Build**"
      ]
    },
    {
      "cell_type": "code",
      "metadata": {
        "id": "caRlgwe8OwFE"
      },
      "source": [
        "batch_size = 20\n",
        "num_iters = 20000\n",
        "input_dim = 180*180 # num_features = 32400\n",
        "num_hidden = 200\n",
        "output_dim = 10\n",
        "learning_rate = 0.01\n",
        "\n",
        "model = DeepNeuralNetworkModel(input_size = input_dim,\n",
        "                               num_classes = output_dim,\n",
        "                               num_hidden = num_hidden)\n",
        "\n",
        "# Device\n",
        "device = torch.device(\"cuda:0\" if torch.cuda.is_available() else \"cpu\")\n",
        "\n",
        "# To enable GPU\n",
        "model.to(device)\n",
        "\n",
        "criterion = nn.CrossEntropyLoss()\n",
        "optimizer = torch.optim.ASGD(model.parameters(), lr=learning_rate)"
      ],
      "execution_count": 13,
      "outputs": []
    },
    {
      "cell_type": "markdown",
      "metadata": {
        "id": "xMnIvIAESWrM"
      },
      "source": [
        "**Accuracy**"
      ]
    },
    {
      "cell_type": "code",
      "metadata": {
        "colab": {
          "base_uri": "https://localhost:8080/"
        },
        "id": "p5qMslDYm2ja",
        "outputId": "ed2559ad-2c85-4978-af9b-c6579c7f3031"
      },
      "source": [
        "loss_data,iterations = [],[]\n",
        "accuracy_data = []\n",
        "iter = 0\n",
        "\n",
        "num_epochs = math.ceil(num_iters / (len(df_Train) / batch_size))\n",
        "\n",
        "train_loader = torch.utils.data.DataLoader(dataset=df_Train, \n",
        "                                           batch_size=batch_size, \n",
        "                                           shuffle=True)   # It's better to shuffle the whole training dataset! \n",
        "\n",
        "test_loader = torch.utils.data.DataLoader(dataset=df_Test, \n",
        "                                          batch_size=batch_size, \n",
        "                                          shuffle=False) \n",
        "\n",
        "for epoch in range(num_epochs):\n",
        "    for i, (images, labels) in enumerate(train_loader):\n",
        "\n",
        "        images = images.view(-1, 180*180).to(device)\n",
        "        labels = labels.to(device)\n",
        "\n",
        "        # Clear gradients w.r.t. parameters\n",
        "        optimizer.zero_grad()\n",
        "\n",
        "        # Forward pass to get output/logits\n",
        "        outputs = model(images) \n",
        "\n",
        "        # Calculate Loss: softmax --> cross entropy loss\n",
        "        loss = criterion(outputs, labels)\n",
        "\n",
        "        # Getting gradients w.r.t. parameters\n",
        "        loss.backward()\n",
        "\n",
        "        # Updating parameters\n",
        "        optimizer.step()\n",
        "\n",
        "        iter += 1\n",
        "        if iter > num_iters:\n",
        "          break;\n",
        "\n",
        "        if iter % 500 == 0:\n",
        "            # Calculate Accuracy         \n",
        "            correct = 0\n",
        "            total = 0\n",
        "            # Iterate through test dataset\n",
        "            for images, labels in test_loader:\n",
        "               \n",
        "                images = images.view(-1, 180*180).to(device)\n",
        "\n",
        "                # Forward pass only to get logits/output\n",
        "                outputs = model(images)\n",
        "\n",
        "                # Get predictions from the maximum value\n",
        "                _, predicted = torch.max(outputs, 1)\n",
        "\n",
        "                # Total number of labels\n",
        "                total += labels.size(0)\n",
        "                # print(predicted)\n",
        "\n",
        "\n",
        "                # Total correct predictions\n",
        "                if torch.cuda.is_available():\n",
        "                    correct += (predicted.cpu() == labels.cpu()).sum() \n",
        "                else:\n",
        "                    correct += (predicted == labels).sum()\n",
        "\n",
        "            accuracy = 100 * correct.item() / total\n",
        "\n",
        "            # save the loss and iteration\n",
        "            loss_data.append(round(loss.item(),4))\n",
        "            iterations.append(iter)\n",
        "\n",
        "            # Print Loss\n",
        "            print('Iteration: {}. Loss: {}. Accuracy: {}'.format(iter, round(loss.item(),4), round(accuracy,4)))"
      ],
      "execution_count": 14,
      "outputs": [
        {
          "output_type": "stream",
          "name": "stdout",
          "text": [
            "Iteration: 500. Loss: 2.3096. Accuracy: 10.2058\n",
            "Iteration: 1000. Loss: 2.2991. Accuracy: 9.856\n",
            "Iteration: 1500. Loss: 2.3125. Accuracy: 11.5844\n",
            "Iteration: 2000. Loss: 2.278. Accuracy: 22.1193\n",
            "Iteration: 2500. Loss: 2.2644. Accuracy: 19.0123\n",
            "Iteration: 3000. Loss: 2.1362. Accuracy: 14.2387\n",
            "Iteration: 3500. Loss: 2.3483. Accuracy: 19.2798\n",
            "Iteration: 4000. Loss: 2.1201. Accuracy: 23.6626\n",
            "Iteration: 4500. Loss: 1.9638. Accuracy: 24.7942\n",
            "Iteration: 5000. Loss: 2.1336. Accuracy: 24.1564\n",
            "Iteration: 5500. Loss: 1.9655. Accuracy: 25.5761\n",
            "Iteration: 6000. Loss: 1.9531. Accuracy: 27.2428\n",
            "Iteration: 6500. Loss: 2.5867. Accuracy: 18.2922\n",
            "Iteration: 7000. Loss: 1.8917. Accuracy: 31.0082\n",
            "Iteration: 7500. Loss: 2.0402. Accuracy: 29.3416\n",
            "Iteration: 8000. Loss: 1.6831. Accuracy: 31.5432\n",
            "Iteration: 8500. Loss: 2.378. Accuracy: 28.2922\n",
            "Iteration: 9000. Loss: 1.9783. Accuracy: 33.3539\n",
            "Iteration: 9500. Loss: 1.7368. Accuracy: 29.9794\n",
            "Iteration: 10000. Loss: 1.8749. Accuracy: 39.7119\n",
            "Iteration: 10500. Loss: 2.0043. Accuracy: 28.4774\n",
            "Iteration: 11000. Loss: 2.0058. Accuracy: 43.7449\n",
            "Iteration: 11500. Loss: 1.9124. Accuracy: 40.2263\n",
            "Iteration: 12000. Loss: 1.4605. Accuracy: 36.8107\n",
            "Iteration: 12500. Loss: 1.5826. Accuracy: 40.5556\n",
            "Iteration: 13000. Loss: 1.5295. Accuracy: 42.716\n",
            "Iteration: 13500. Loss: 1.4513. Accuracy: 43.2099\n",
            "Iteration: 14000. Loss: 1.3502. Accuracy: 44.0535\n",
            "Iteration: 14500. Loss: 1.6142. Accuracy: 45.4733\n",
            "Iteration: 15000. Loss: 1.6782. Accuracy: 45.6584\n",
            "Iteration: 15500. Loss: 0.996. Accuracy: 48.3128\n",
            "Iteration: 16000. Loss: 1.4811. Accuracy: 48.2922\n",
            "Iteration: 16500. Loss: 1.5147. Accuracy: 42.9835\n",
            "Iteration: 17000. Loss: 1.5699. Accuracy: 45.6379\n",
            "Iteration: 17500. Loss: 1.3697. Accuracy: 49.465\n",
            "Iteration: 18000. Loss: 1.3835. Accuracy: 48.1276\n",
            "Iteration: 18500. Loss: 0.8043. Accuracy: 51.8313\n",
            "Iteration: 19000. Loss: 0.9131. Accuracy: 47.7366\n",
            "Iteration: 19500. Loss: 1.3745. Accuracy: 55.0206\n",
            "Iteration: 20000. Loss: 1.4371. Accuracy: 60.6996\n"
          ]
        }
      ]
    },
    {
      "cell_type": "markdown",
      "metadata": {
        "id": "yNwkm3CuSjny"
      },
      "source": [
        "**Prediction**"
      ]
    },
    {
      "cell_type": "code",
      "metadata": {
        "colab": {
          "base_uri": "https://localhost:8080/",
          "height": 280
        },
        "id": "uqBohu_O2b-f",
        "outputId": "bd585e31-4d59-41c6-a5d2-026cf802f548"
      },
      "source": [
        "num_predictions = 10\n",
        "\n",
        "for images, labels in test_loader:\n",
        "    break\n",
        "\n",
        "predictions = model.forward(images[0:num_predictions].view(-1, 180*180).to(device))\n",
        "predictions = torch.argmax(predictions, dim=1)\n",
        "\n",
        "print('Actual Values for Dataset 1: ')\n",
        "plt.figure(figsize=(14,14))\n",
        "for i in range(num_predictions):\n",
        "    ax=plt.subplot(1,num_predictions,i+1)\n",
        "    ax.title.set_text(labels[i].item())\n",
        "    plt.imshow(images[i].view(180, 180), cmap=plt.cm.binary)\n",
        "\n",
        "plt.show()\n",
        "\n",
        "print('Predicted Values for Dataset 1: ')\n",
        "plt.figure(figsize=(14,14))\n",
        "for i in range(num_predictions):\n",
        "    ax=plt.subplot(1,num_predictions,i+1)\n",
        "    ax.title.set_text(predictions[i].item())\n",
        "    plt.imshow(images[i].view(180, 180), cmap=plt.cm.binary)\n",
        "\n",
        "plt.show()"
      ],
      "execution_count": 15,
      "outputs": [
        {
          "output_type": "stream",
          "name": "stdout",
          "text": [
            "Actual Values for Dataset 1: \n"
          ]
        },
        {
          "output_type": "display_data",
          "data": {
            "image/png": "[encoded data removed]",
            "text/plain": [
              "<Figure size 1008x1008 with 10 Axes>"
            ]
          },
          "metadata": {
            "needs_background": "light"
          }
        },
        {
          "output_type": "stream",
          "name": "stdout",
          "text": [
            "Predicted Values for Dataset 1: \n"
          ]
        },
        {
          "output_type": "display_data",
          "data": {
            "image/png": "[encoded data removed]",
            "text/plain": [
              "<Figure size 1008x1008 with 10 Axes>"
            ]
          },
          "metadata": {
            "needs_background": "light"
          }
        }
      ]
    },
    {
      "cell_type": "markdown",
      "metadata": {
        "id": "p0K2xEH_S6YN"
      },
      "source": [
        "### **Loss Curve of Dataset -1**"
      ]
    },
    {
      "cell_type": "code",
      "metadata": {
        "colab": {
          "base_uri": "https://localhost:8080/",
          "height": 513
        },
        "id": "hd67iRRq6Zlo",
        "outputId": "70145102-239f-4b34-e62b-3e9a775665c5"
      },
      "source": [
        "plt.figure(figsize=(12,8))\n",
        "plt.plot(iterations,loss_data,marker='o')\n",
        "plt.title('Loss vs Iterations Curve')\n",
        "plt.xlabel('Iterations')\n",
        "plt.ylabel('Loss')\n",
        "plt.show()"
      ],
      "execution_count": 16,
      "outputs": [
        {
          "output_type": "display_data",
          "data": {
            "image/png": "[encoded data removed]",
            "text/plain": [
              "<Figure size 864x576 with 1 Axes>"
            ]
          },
          "metadata": {
            "needs_background": "light"
          }
        }
      ]
    },
    {
      "cell_type": "markdown",
      "metadata": {
        "id": "mBCUxqrPRp-S"
      },
      "source": [
        "## **Step - 3**"
      ]
    },
    {
      "cell_type": "markdown",
      "metadata": {
        "id": "b4garZF0TMEC"
      },
      "source": [
        "### **Train & Test Creation (Dataset - 2)**"
      ]
    },
    {
      "cell_type": "code",
      "metadata": {
        "id": "bU0Cf-5CBfTt"
      },
      "source": [
        "# label store\n",
        "Train2_digits = np.array(df2_Train['label'])\n",
        "Test2_digits = np.array(df2_Test['label'])\n",
        "\n",
        "# label drop\n",
        "df2_Train.drop(['label'],axis=1,inplace=True)\n",
        "df2_Test.drop(['label'],axis=1,inplace=True)\n",
        "\n",
        "# Image pixel convertion into numpy(uint8 datatype)\n",
        "Train2_img = np.array(df2_Train, dtype=np.uint8)\n",
        "Test2_img = np.array(df2_Test, dtype=np.uint8)"
      ],
      "execution_count": 17,
      "outputs": []
    },
    {
      "cell_type": "markdown",
      "metadata": {
        "id": "W7ZUVONFUrOv"
      },
      "source": [
        "### **Image Data Creation (Dataset - 2)**"
      ]
    },
    {
      "cell_type": "code",
      "metadata": {
        "colab": {
          "base_uri": "https://localhost:8080/"
        },
        "id": "C8qqVAOGBjot",
        "outputId": "f9eb32f3-50ac-471b-e552-888f7b21e162"
      },
      "source": [
        "Train2_imgTN = []\n",
        "Test2_imgTN = []\n",
        "\n",
        "transformer=transforms.Compose([\n",
        "    transforms.ToPILImage(),\n",
        "    transforms.ToTensor(),\n",
        "    transforms.Normalize([0.5], [0.5])                         \n",
        "])\n",
        "\n",
        "matrixNum = int(math.sqrt(len(df2_Test.columns)))         #features=784, Sqrt(784)=28, 28*28 image\n",
        "\n",
        "# Tensor transformation and normalization for Train Data\n",
        "for index, data in enumerate(Train2_img,start=0):\n",
        "  image = data.reshape(matrixNum,matrixNum)\n",
        "  image_Ttrans2 = transformer(image)\n",
        "  Train2_imgTN.append((image_Ttrans2,Train2_digits[index]))\n",
        "\n",
        "# Tensor transformation and normalization for Test Data\n",
        "for index, data in enumerate(Test2_img,start=0):\n",
        "  image = data.reshape(matrixNum,matrixNum)\n",
        "  image_Ttrans2 = transformer(image)\n",
        "  Test2_imgTN.append((image_Ttrans2,Test2_digits[index]))\n",
        "\n",
        "print('Train Data: ', len(Train2_imgTN))\n",
        "print('Test Data: ', len(Test2_imgTN))"
      ],
      "execution_count": 19,
      "outputs": [
        {
          "output_type": "stream",
          "name": "stdout",
          "text": [
            "Train Data:  60000\n",
            "Test Data:  10000\n"
          ]
        }
      ]
    },
    {
      "cell_type": "markdown",
      "metadata": {
        "id": "_XHfIGSrU4bm"
      },
      "source": [
        "### **Dataset - 2 (Model Build, Accuracy, Prediction)**"
      ]
    },
    {
      "cell_type": "markdown",
      "metadata": {
        "id": "_dM3jRaXU6r3"
      },
      "source": [
        "**Model Build**"
      ]
    },
    {
      "cell_type": "code",
      "metadata": {
        "id": "zrqolLk2IKiU"
      },
      "source": [
        "batch_size = 20\n",
        "num_iters = 20000\n",
        "input_dim = matrixNum*matrixNum\n",
        "num_hidden = 200\n",
        "output_dim = 10\n",
        "learning_rate = 0.01\n",
        "\n",
        "\n",
        "model2 = DeepNeuralNetworkModel(input_size = input_dim,\n",
        "                               num_classes = output_dim,\n",
        "                               num_hidden = num_hidden)\n",
        "\n",
        "# Device\n",
        "device = torch.device(\"cuda:0\" if torch.cuda.is_available() else \"cpu\")\n",
        "\n",
        "# To enable GPU\n",
        "model2.to(device)\n",
        "\n",
        "criterion = nn.CrossEntropyLoss()\n",
        "optimizer = torch.optim.SGD(model2.parameters(), lr=learning_rate)"
      ],
      "execution_count": 20,
      "outputs": []
    },
    {
      "cell_type": "markdown",
      "metadata": {
        "id": "M28wmzznU-vi"
      },
      "source": [
        "**Accuracy**"
      ]
    },
    {
      "cell_type": "code",
      "metadata": {
        "colab": {
          "base_uri": "https://localhost:8080/"
        },
        "id": "HVFsUZO4I1k-",
        "outputId": "9fd39b42-8a0e-4659-c84d-e6fbf98765f2"
      },
      "source": [
        "loss_data2,iterations2 = [],[]\n",
        "accuracy_data2 = []\n",
        "iter = 0\n",
        "\n",
        "num_epochs = round(num_iters / (len(Train2_imgTN) / batch_size))\n",
        "\n",
        "train_loader2 = torch.utils.data.DataLoader(dataset=Train2_imgTN, \n",
        "                                           batch_size=batch_size, \n",
        "                                           shuffle=True)   # It's better to shuffle the whole training dataset! \n",
        "\n",
        "test_loader2 = torch.utils.data.DataLoader(dataset=Test2_imgTN, \n",
        "                                          batch_size=batch_size, \n",
        "                                          shuffle=False) \n",
        "\n",
        "for epoch in range(num_epochs):\n",
        "    for i, (images, labels) in enumerate(train_loader2):\n",
        "\n",
        "        images = images.view(-1, matrixNum*matrixNum).to(device)\n",
        "        labels = labels.to(device)\n",
        "\n",
        "        # Clear gradients w.r.t. parameters\n",
        "        optimizer.zero_grad()\n",
        "\n",
        "        # Forward pass to get output/logits\n",
        "        outputs = model2(images) \n",
        "\n",
        "\n",
        "        # Calculate Loss: softmax --> cross entropy loss\n",
        "        loss = criterion(outputs, labels)\n",
        "\n",
        "        # Getting gradients w.r.t. parameters\n",
        "        loss.backward()\n",
        "\n",
        "        # Updating parameters\n",
        "        optimizer.step()\n",
        "\n",
        "        iter += 1\n",
        "        if iter > 20000:\n",
        "          break;\n",
        "\n",
        "        if iter % 500 == 0:\n",
        "            # Calculate Accuracy         \n",
        "            correct = 0\n",
        "            total = 0\n",
        "            # Iterate through test dataset\n",
        "            for images, labels in test_loader2:\n",
        "                images = images.view(-1, matrixNum*matrixNum).to(device)\n",
        "\n",
        "                # Forward pass only to get logits/output\n",
        "                outputs = model2(images)\n",
        "\n",
        "                # Get predictions from the maximum value\n",
        "                _, predicted = torch.max(outputs, 1)\n",
        "\n",
        "                # Total number of labels\n",
        "                total += labels.size(0)\n",
        "                # print(predicted)\n",
        "\n",
        "\n",
        "                # Total correct predictions\n",
        "                if torch.cuda.is_available():\n",
        "                    correct += (predicted.cpu() == labels.cpu()).sum() \n",
        "                else:\n",
        "                    correct += (predicted == labels).sum()\n",
        "\n",
        "            accuracy = 100 * correct.item() / total\n",
        "\n",
        "\n",
        "            # Print Loss\n",
        "            print('Iteration: {}. Loss: {}. Accuracy: {}'.format(iter, round(loss.item(),4), accuracy))"
      ],
      "execution_count": 21,
      "outputs": [
        {
          "output_type": "stream",
          "name": "stdout",
          "text": [
            "Iteration: 500. Loss: 1.3854. Accuracy: 36.18\n",
            "Iteration: 1000. Loss: 0.9785. Accuracy: 64.97\n",
            "Iteration: 1500. Loss: 0.6277. Accuracy: 72.18\n",
            "Iteration: 2000. Loss: 0.5461. Accuracy: 73.47\n",
            "Iteration: 2500. Loss: 0.6731. Accuracy: 76.22\n",
            "Iteration: 3000. Loss: 0.5017. Accuracy: 78.54\n",
            "Iteration: 3500. Loss: 0.5046. Accuracy: 80.27\n",
            "Iteration: 4000. Loss: 0.597. Accuracy: 80.34\n",
            "Iteration: 4500. Loss: 0.6483. Accuracy: 81.7\n",
            "Iteration: 5000. Loss: 0.4458. Accuracy: 82.98\n",
            "Iteration: 5500. Loss: 0.4737. Accuracy: 82.21\n",
            "Iteration: 6000. Loss: 0.4202. Accuracy: 82.15\n",
            "Iteration: 6500. Loss: 0.1143. Accuracy: 83.57\n",
            "Iteration: 7000. Loss: 0.7969. Accuracy: 83.94\n",
            "Iteration: 7500. Loss: 0.4284. Accuracy: 83.96\n",
            "Iteration: 8000. Loss: 0.4273. Accuracy: 82.9\n",
            "Iteration: 8500. Loss: 0.5243. Accuracy: 84.65\n",
            "Iteration: 9000. Loss: 0.5453. Accuracy: 84.7\n",
            "Iteration: 9500. Loss: 0.7445. Accuracy: 83.27\n",
            "Iteration: 10000. Loss: 0.7812. Accuracy: 83.85\n",
            "Iteration: 10500. Loss: 0.3133. Accuracy: 84.14\n",
            "Iteration: 11000. Loss: 0.5524. Accuracy: 84.42\n",
            "Iteration: 11500. Loss: 0.3101. Accuracy: 84.76\n",
            "Iteration: 12000. Loss: 0.715. Accuracy: 85.16\n",
            "Iteration: 12500. Loss: 0.8162. Accuracy: 84.56\n",
            "Iteration: 13000. Loss: 0.3282. Accuracy: 85.53\n",
            "Iteration: 13500. Loss: 0.3923. Accuracy: 85.34\n",
            "Iteration: 14000. Loss: 0.5036. Accuracy: 85.61\n",
            "Iteration: 14500. Loss: 1.0417. Accuracy: 85.57\n",
            "Iteration: 15000. Loss: 0.0834. Accuracy: 84.98\n",
            "Iteration: 15500. Loss: 0.1513. Accuracy: 86.15\n",
            "Iteration: 16000. Loss: 0.4767. Accuracy: 84.93\n",
            "Iteration: 16500. Loss: 0.2868. Accuracy: 85.91\n",
            "Iteration: 17000. Loss: 0.7111. Accuracy: 86.28\n",
            "Iteration: 17500. Loss: 0.2928. Accuracy: 85.68\n",
            "Iteration: 18000. Loss: 0.4966. Accuracy: 85.9\n",
            "Iteration: 18500. Loss: 0.2447. Accuracy: 85.85\n",
            "Iteration: 19000. Loss: 0.3294. Accuracy: 85.75\n",
            "Iteration: 19500. Loss: 0.333. Accuracy: 85.95\n",
            "Iteration: 20000. Loss: 0.1356. Accuracy: 86.52\n"
          ]
        }
      ]
    },
    {
      "cell_type": "markdown",
      "metadata": {
        "id": "04wyArcMVBsa"
      },
      "source": [
        "**Prediction**"
      ]
    },
    {
      "cell_type": "code",
      "metadata": {
        "colab": {
          "base_uri": "https://localhost:8080/",
          "height": 280
        },
        "id": "eiqZaKwcKPrJ",
        "outputId": "8007679f-66bc-4d55-cbfe-40d11a0a2018"
      },
      "source": [
        "num_predictions = 10\n",
        "\n",
        "for images, labels in test_loader2:\n",
        "    break\n",
        "\n",
        "predictions = model2.forward(images[0:num_predictions].view(-1, matrixNum*matrixNum).to(device))\n",
        "predictions = torch.argmax(predictions, dim=1)\n",
        "\n",
        "print('Actual Values for Dataset 2: ')\n",
        "plt.figure(figsize=(14,14))\n",
        "for i in range(num_predictions):\n",
        "    ax=plt.subplot(1,num_predictions,i+1)\n",
        "    ax.title.set_text(labels[i].item())\n",
        "    plt.imshow(images[i].view(matrixNum, matrixNum), cmap=plt.cm.binary)\n",
        "\n",
        "plt.show()\n",
        "\n",
        "print('Predicted Values for Dataset 2: ')\n",
        "plt.figure(figsize=(14,14))\n",
        "for i in range(num_predictions):\n",
        "    ax=plt.subplot(1,num_predictions,i+1)\n",
        "    ax.title.set_text(predictions[i].item())\n",
        "    plt.imshow(images[i].view(matrixNum, matrixNum), cmap=plt.cm.binary)\n",
        "\n",
        "plt.show()"
      ],
      "execution_count": 22,
      "outputs": [
        {
          "output_type": "stream",
          "name": "stdout",
          "text": [
            "Actual Values for Dataset 2: \n"
          ]
        },
        {
          "output_type": "display_data",
          "data": {
            "image/png": "[encoded data removed]",
            "text/plain": [
              "<Figure size 1008x1008 with 10 Axes>"
            ]
          },
          "metadata": {
            "needs_background": "light"
          }
        },
        {
          "output_type": "stream",
          "name": "stdout",
          "text": [
            "Predicted Values for Dataset 2: \n"
          ]
        },
        {
          "output_type": "display_data",
          "data": {
            "image/png": "[encoded data removed]",
            "text/plain": [
              "<Figure size 1008x1008 with 10 Axes>"
            ]
          },
          "metadata": {
            "needs_background": "light"
          }
        }
      ]
    }
  ]
}