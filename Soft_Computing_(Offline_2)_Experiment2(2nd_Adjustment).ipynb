{
  "nbformat": 4,
  "nbformat_minor": 0,
  "metadata": {
    "colab": {
      "name": "Copy of Copy_of_Soft_Computing_(Offline_2).ipynb",
      "provenance": [],
      "collapsed_sections": [
        "XUK0viGsDhGI",
        "LCWQ8eX8Q8vO",
        "b1jxaCh4LUZv",
        "aoBgG9eIRMVs",
        "oesdshjxRdxP",
        "36BOfAEhLjyr",
        "FSnI6DjWasfn"
      ]
    },
    "kernelspec": {
      "display_name": "Python 3",
      "name": "python3"
    },
    "language_info": {
      "name": "python"
    },
    "accelerator": "GPU"
  },
  "cells": [
    {
      "cell_type": "markdown",
      "metadata": {
        "id": "X5-4GFDXuChh"
      },
      "source": [
        "# **Assignment 2 (Deep Neural Networks) - 160204107**"
      ]
    },
    {
      "cell_type": "markdown",
      "metadata": {
        "id": "CAmqIkdlcBDx"
      },
      "source": [
        "**Adjustment - 2**"
      ]
    },
    {
      "cell_type": "markdown",
      "metadata": {
        "id": "Y2Bxhm2GuIDF"
      },
      "source": [
        "**Libraries**"
      ]
    },
    {
      "cell_type": "code",
      "metadata": {
        "id": "cOFePX-pp9fi"
      },
      "source": [
        "import pandas as pd\n",
        "import numpy as np\n",
        "import matplotlib.pyplot as plt\n",
        "import math\n",
        "\n",
        "import cv2\n",
        "import os\n",
        "\n",
        "import torch\n",
        "import torch.nn as nn\n",
        "import torchvision\n",
        "import torchvision.transforms as transforms\n",
        "\n",
        "import re\n",
        "from PIL import Image\n",
        "import pickle"
      ],
      "execution_count": 1,
      "outputs": []
    },
    {
      "cell_type": "markdown",
      "metadata": {
        "id": "XUK0viGsDhGI"
      },
      "source": [
        "## **Step - 1**"
      ]
    },
    {
      "cell_type": "markdown",
      "metadata": {
        "id": "LCWQ8eX8Q8vO"
      },
      "source": [
        "### **Drive and Directories**"
      ]
    },
    {
      "cell_type": "markdown",
      "metadata": {
        "id": "YUz2ADpFD2gQ"
      },
      "source": [
        "**Mount Drive**"
      ]
    },
    {
      "cell_type": "code",
      "metadata": {
        "colab": {
          "base_uri": "https://localhost:8080/"
        },
        "id": "WZlYhojBD5aM",
        "outputId": "5fc5655c-4095-4c9a-f451-86a51436ec3d"
      },
      "source": [
        "from google.colab import drive\n",
        "drive.mount('/content/drive')"
      ],
      "execution_count": 2,
      "outputs": [
        {
          "output_type": "stream",
          "name": "stdout",
          "text": [
            "Drive already mounted at /content/drive; to attempt to forcibly remount, call drive.mount(\"/content/drive\", force_remount=True).\n"
          ]
        }
      ]
    },
    {
      "cell_type": "markdown",
      "metadata": {
        "id": "xIp8dq1oDsWx"
      },
      "source": [
        "**Directories**"
      ]
    },
    {
      "cell_type": "code",
      "metadata": {
        "colab": {
          "base_uri": "https://localhost:8080/",
          "height": 424
        },
        "id": "7LE6KS82DwC5",
        "outputId": "d977da75-45cf-4c85-b401-b41dd6d361c0"
      },
      "source": [
        "directory = r'/content/drive/MyDrive/Soft Computing 4.2/Deep Neural Networks Dataset/'\n",
        "img_folder = r'/content/drive/MyDrive/Soft Computing 4.2/Deep Neural Networks Dataset/training-c'\n",
        "df = pd.read_csv('/content/drive/MyDrive/Soft Computing 4.2/Deep Neural Networks Dataset/training-c.csv')\n",
        "df2_Train = pd.read_csv('/content/drive/MyDrive/Soft Computing 4.2/Deep Neural Networks Dataset/verification_train.csv')\n",
        "df2_Test = pd.read_csv('/content/drive/MyDrive/Soft Computing 4.2/Deep Neural Networks Dataset/verification_test.csv')\n",
        "df"
      ],
      "execution_count": 3,
      "outputs": [
        {
          "output_type": "execute_result",
          "data": {
            "text/html": [
              "<div>\n",
              "<style scoped>\n",
              "    .dataframe tbody tr th:only-of-type {\n",
              "        vertical-align: middle;\n",
              "    }\n",
              "\n",
              "    .dataframe tbody tr th {\n",
              "        vertical-align: top;\n",
              "    }\n",
              "\n",
              "    .dataframe thead th {\n",
              "        text-align: right;\n",
              "    }\n",
              "</style>\n",
              "<table border=\"1\" class=\"dataframe\">\n",
              "  <thead>\n",
              "    <tr style=\"text-align: right;\">\n",
              "      <th></th>\n",
              "      <th>filename</th>\n",
              "      <th>original filename</th>\n",
              "      <th>scanid</th>\n",
              "      <th>digit</th>\n",
              "      <th>database name original</th>\n",
              "      <th>contributing team</th>\n",
              "      <th>database name</th>\n",
              "    </tr>\n",
              "  </thead>\n",
              "  <tbody>\n",
              "    <tr>\n",
              "      <th>0</th>\n",
              "      <td>c00000.png</td>\n",
              "      <td>Scan_280_digit_6_num_7.png</td>\n",
              "      <td>280</td>\n",
              "      <td>6</td>\n",
              "      <td>OngkoDB</td>\n",
              "      <td>Buet_Backpropers</td>\n",
              "      <td>training-c</td>\n",
              "    </tr>\n",
              "    <tr>\n",
              "      <th>1</th>\n",
              "      <td>c00001.png</td>\n",
              "      <td>Scan_29_digit_1_num_1.png</td>\n",
              "      <td>29</td>\n",
              "      <td>1</td>\n",
              "      <td>OngkoDB</td>\n",
              "      <td>Buet_Backpropers</td>\n",
              "      <td>training-c</td>\n",
              "    </tr>\n",
              "    <tr>\n",
              "      <th>2</th>\n",
              "      <td>c00002.png</td>\n",
              "      <td>Scan_131_digit_3_num_1.png</td>\n",
              "      <td>131</td>\n",
              "      <td>3</td>\n",
              "      <td>OngkoDB</td>\n",
              "      <td>Buet_Backpropers</td>\n",
              "      <td>training-c</td>\n",
              "    </tr>\n",
              "    <tr>\n",
              "      <th>3</th>\n",
              "      <td>c00003.png</td>\n",
              "      <td>Scan_160_digit_2_num_2.png</td>\n",
              "      <td>160</td>\n",
              "      <td>2</td>\n",
              "      <td>OngkoDB</td>\n",
              "      <td>Buet_Backpropers</td>\n",
              "      <td>training-c</td>\n",
              "    </tr>\n",
              "    <tr>\n",
              "      <th>4</th>\n",
              "      <td>c00004.png</td>\n",
              "      <td>Scan_202_digit_7_num_0.png</td>\n",
              "      <td>202</td>\n",
              "      <td>7</td>\n",
              "      <td>OngkoDB</td>\n",
              "      <td>Buet_Backpropers</td>\n",
              "      <td>training-c</td>\n",
              "    </tr>\n",
              "    <tr>\n",
              "      <th>...</th>\n",
              "      <td>...</td>\n",
              "      <td>...</td>\n",
              "      <td>...</td>\n",
              "      <td>...</td>\n",
              "      <td>...</td>\n",
              "      <td>...</td>\n",
              "      <td>...</td>\n",
              "    </tr>\n",
              "    <tr>\n",
              "      <th>24293</th>\n",
              "      <td>c24293.png</td>\n",
              "      <td>Scan_167_digit_3_num_4.png</td>\n",
              "      <td>167</td>\n",
              "      <td>3</td>\n",
              "      <td>OngkoDB</td>\n",
              "      <td>Buet_Backpropers</td>\n",
              "      <td>training-c</td>\n",
              "    </tr>\n",
              "    <tr>\n",
              "      <th>24294</th>\n",
              "      <td>c24294.png</td>\n",
              "      <td>Scan_174_digit_2_num_8.png</td>\n",
              "      <td>174</td>\n",
              "      <td>2</td>\n",
              "      <td>OngkoDB</td>\n",
              "      <td>Buet_Backpropers</td>\n",
              "      <td>training-c</td>\n",
              "    </tr>\n",
              "    <tr>\n",
              "      <th>24295</th>\n",
              "      <td>c24295.png</td>\n",
              "      <td>Scan_152_digit_7_num_4.png</td>\n",
              "      <td>152</td>\n",
              "      <td>7</td>\n",
              "      <td>OngkoDB</td>\n",
              "      <td>Buet_Backpropers</td>\n",
              "      <td>training-c</td>\n",
              "    </tr>\n",
              "    <tr>\n",
              "      <th>24296</th>\n",
              "      <td>c24296.png</td>\n",
              "      <td>Scan_123_digit_2_num_2.png</td>\n",
              "      <td>123</td>\n",
              "      <td>2</td>\n",
              "      <td>OngkoDB</td>\n",
              "      <td>Buet_Backpropers</td>\n",
              "      <td>training-c</td>\n",
              "    </tr>\n",
              "    <tr>\n",
              "      <th>24297</th>\n",
              "      <td>c24297.png</td>\n",
              "      <td>Scan_2_digit_7_num_6.png</td>\n",
              "      <td>2</td>\n",
              "      <td>7</td>\n",
              "      <td>OngkoDB</td>\n",
              "      <td>Buet_Backpropers</td>\n",
              "      <td>training-c</td>\n",
              "    </tr>\n",
              "  </tbody>\n",
              "</table>\n",
              "<p>24298 rows × 7 columns</p>\n",
              "</div>"
            ],
            "text/plain": [
              "         filename           original filename  ...  contributing team  database name\n",
              "0      c00000.png  Scan_280_digit_6_num_7.png  ...   Buet_Backpropers     training-c\n",
              "1      c00001.png   Scan_29_digit_1_num_1.png  ...   Buet_Backpropers     training-c\n",
              "2      c00002.png  Scan_131_digit_3_num_1.png  ...   Buet_Backpropers     training-c\n",
              "3      c00003.png  Scan_160_digit_2_num_2.png  ...   Buet_Backpropers     training-c\n",
              "4      c00004.png  Scan_202_digit_7_num_0.png  ...   Buet_Backpropers     training-c\n",
              "...           ...                         ...  ...                ...            ...\n",
              "24293  c24293.png  Scan_167_digit_3_num_4.png  ...   Buet_Backpropers     training-c\n",
              "24294  c24294.png  Scan_174_digit_2_num_8.png  ...   Buet_Backpropers     training-c\n",
              "24295  c24295.png  Scan_152_digit_7_num_4.png  ...   Buet_Backpropers     training-c\n",
              "24296  c24296.png  Scan_123_digit_2_num_2.png  ...   Buet_Backpropers     training-c\n",
              "24297  c24297.png    Scan_2_digit_7_num_6.png  ...   Buet_Backpropers     training-c\n",
              "\n",
              "[24298 rows x 7 columns]"
            ]
          },
          "metadata": {},
          "execution_count": 3
        }
      ]
    },
    {
      "cell_type": "markdown",
      "metadata": {
        "id": "b1jxaCh4LUZv"
      },
      "source": [
        "### **Read Dataset-1**"
      ]
    },
    {
      "cell_type": "code",
      "metadata": {
        "colab": {
          "base_uri": "https://localhost:8080/",
          "height": 424
        },
        "id": "nEoAt-TqFdnx",
        "outputId": "d8af4452-449a-4951-c03d-cc452fec98ed"
      },
      "source": [
        "df = df[['filename','digit']]\n",
        "df"
      ],
      "execution_count": 4,
      "outputs": [
        {
          "output_type": "execute_result",
          "data": {
            "text/html": [
              "<div>\n",
              "<style scoped>\n",
              "    .dataframe tbody tr th:only-of-type {\n",
              "        vertical-align: middle;\n",
              "    }\n",
              "\n",
              "    .dataframe tbody tr th {\n",
              "        vertical-align: top;\n",
              "    }\n",
              "\n",
              "    .dataframe thead th {\n",
              "        text-align: right;\n",
              "    }\n",
              "</style>\n",
              "<table border=\"1\" class=\"dataframe\">\n",
              "  <thead>\n",
              "    <tr style=\"text-align: right;\">\n",
              "      <th></th>\n",
              "      <th>filename</th>\n",
              "      <th>digit</th>\n",
              "    </tr>\n",
              "  </thead>\n",
              "  <tbody>\n",
              "    <tr>\n",
              "      <th>0</th>\n",
              "      <td>c00000.png</td>\n",
              "      <td>6</td>\n",
              "    </tr>\n",
              "    <tr>\n",
              "      <th>1</th>\n",
              "      <td>c00001.png</td>\n",
              "      <td>1</td>\n",
              "    </tr>\n",
              "    <tr>\n",
              "      <th>2</th>\n",
              "      <td>c00002.png</td>\n",
              "      <td>3</td>\n",
              "    </tr>\n",
              "    <tr>\n",
              "      <th>3</th>\n",
              "      <td>c00003.png</td>\n",
              "      <td>2</td>\n",
              "    </tr>\n",
              "    <tr>\n",
              "      <th>4</th>\n",
              "      <td>c00004.png</td>\n",
              "      <td>7</td>\n",
              "    </tr>\n",
              "    <tr>\n",
              "      <th>...</th>\n",
              "      <td>...</td>\n",
              "      <td>...</td>\n",
              "    </tr>\n",
              "    <tr>\n",
              "      <th>24293</th>\n",
              "      <td>c24293.png</td>\n",
              "      <td>3</td>\n",
              "    </tr>\n",
              "    <tr>\n",
              "      <th>24294</th>\n",
              "      <td>c24294.png</td>\n",
              "      <td>2</td>\n",
              "    </tr>\n",
              "    <tr>\n",
              "      <th>24295</th>\n",
              "      <td>c24295.png</td>\n",
              "      <td>7</td>\n",
              "    </tr>\n",
              "    <tr>\n",
              "      <th>24296</th>\n",
              "      <td>c24296.png</td>\n",
              "      <td>2</td>\n",
              "    </tr>\n",
              "    <tr>\n",
              "      <th>24297</th>\n",
              "      <td>c24297.png</td>\n",
              "      <td>7</td>\n",
              "    </tr>\n",
              "  </tbody>\n",
              "</table>\n",
              "<p>24298 rows × 2 columns</p>\n",
              "</div>"
            ],
            "text/plain": [
              "         filename  digit\n",
              "0      c00000.png      6\n",
              "1      c00001.png      1\n",
              "2      c00002.png      3\n",
              "3      c00003.png      2\n",
              "4      c00004.png      7\n",
              "...           ...    ...\n",
              "24293  c24293.png      3\n",
              "24294  c24294.png      2\n",
              "24295  c24295.png      7\n",
              "24296  c24296.png      2\n",
              "24297  c24297.png      7\n",
              "\n",
              "[24298 rows x 2 columns]"
            ]
          },
          "metadata": {},
          "execution_count": 4
        }
      ]
    },
    {
      "cell_type": "markdown",
      "metadata": {
        "id": "aoBgG9eIRMVs"
      },
      "source": [
        "### **Dataset-1 Creation and Save (One Time Run)**"
      ]
    },
    {
      "cell_type": "markdown",
      "metadata": {
        "id": "xUGgAwzIb95S"
      },
      "source": [
        "**Image and Digit Data Creation**"
      ]
    },
    {
      "cell_type": "code",
      "metadata": {
        "id": "MamFtFry1dqN"
      },
      "source": [
        "img_digit = []\n",
        "dimention = (180,180)\n",
        "\n",
        "transformer=transforms.Compose([\n",
        "    transforms.Resize(dimention),\n",
        "    transforms.ToTensor(),\n",
        "    transforms.Normalize([0.5], [0.5])                         \n",
        "])\n",
        "\n",
        "for name in os.listdir(img_folder):\n",
        "    # Image name and digit from csv file\n",
        "    index = re.split('c| |\\.',name)\n",
        "    index = int(index[1])\n",
        "    digit_label = df['digit'][index]\n",
        "    \n",
        "    # Open an image using PIL library\n",
        "    image_dir = os.path.join(img_folder, name)\n",
        "    image = Image.open(image_dir)\n",
        "\n",
        "    # Tensor transformation and normalization\n",
        "    image_Ttrans = transformer(image)\n",
        "    img_digit.append((image_Ttrans,digit_label))"
      ],
      "execution_count": null,
      "outputs": []
    },
    {
      "cell_type": "markdown",
      "metadata": {
        "id": "Oc3dSF1YCvvi"
      },
      "source": [
        "**Save Image and Digit Data in a Binary File**"
      ]
    },
    {
      "cell_type": "code",
      "metadata": {
        "id": "4C6O-ZQHCGlJ"
      },
      "source": [
        "with open(directory+'image_digit_data', 'wb') as file:\n",
        "  pickle.dump(img_digit, file)"
      ],
      "execution_count": null,
      "outputs": []
    },
    {
      "cell_type": "markdown",
      "metadata": {
        "id": "oesdshjxRdxP"
      },
      "source": [
        "### **Load Dataset**"
      ]
    },
    {
      "cell_type": "markdown",
      "metadata": {
        "id": "nS60gFeIDMBM"
      },
      "source": [
        "**Load Image and Digit Data from a Binary File**"
      ]
    },
    {
      "cell_type": "code",
      "metadata": {
        "id": "_Q8PGrQDDLAV"
      },
      "source": [
        "with open(directory+'image_digit_data', 'rb') as file:\n",
        "  img_digit = pickle.load(file)"
      ],
      "execution_count": 5,
      "outputs": []
    },
    {
      "cell_type": "markdown",
      "metadata": {
        "id": "u36_d4q2LfwM"
      },
      "source": [
        "## **Step - 2**"
      ]
    },
    {
      "cell_type": "markdown",
      "metadata": {
        "id": "36BOfAEhLjyr"
      },
      "source": [
        "### **Train & Test Creation (Dataset - 1)**"
      ]
    },
    {
      "cell_type": "code",
      "metadata": {
        "colab": {
          "base_uri": "https://localhost:8080/"
        },
        "id": "t8slH0Uvij-r",
        "outputId": "8c49d248-fd76-4b74-cf16-073e87ed4118"
      },
      "source": [
        "df_Train, df_Test = torch.utils.data.random_split(img_digit, (round(len(img_digit)*0.8),round(len(img_digit)*0.2)), generator=torch.Generator().manual_seed(107))\n",
        "\n",
        "print('Total Data: ', len(img_digit))\n",
        "print('Train Data: ', len(df_Train))\n",
        "print('Test Data: ', len(df_Test))\n",
        "\n",
        "df_Train[0]"
      ],
      "execution_count": 6,
      "outputs": [
        {
          "output_type": "stream",
          "name": "stdout",
          "text": [
            "Total Data:  24298\n",
            "Train Data:  19438\n",
            "Test Data:  4860\n"
          ]
        },
        {
          "output_type": "execute_result",
          "data": {
            "text/plain": [
              "(tensor([[[0.8902, 0.9922, 1.0000,  ..., 0.9922, 1.0000, 1.0000],\n",
              "          [0.9137, 0.9922, 1.0000,  ..., 0.9922, 0.9922, 0.9922],\n",
              "          [0.9529, 0.9922, 0.9922,  ..., 1.0000, 1.0000, 0.9922],\n",
              "          ...,\n",
              "          [1.0000, 0.9922, 1.0000,  ..., 0.9922, 1.0000, 0.9922],\n",
              "          [1.0000, 1.0000, 1.0000,  ..., 1.0000, 0.9922, 0.9922],\n",
              "          [0.9922, 0.9922, 1.0000,  ..., 0.9922, 0.9922, 0.9922]]]), 0)"
            ]
          },
          "metadata": {},
          "execution_count": 6
        }
      ]
    },
    {
      "cell_type": "markdown",
      "metadata": {
        "id": "FSnI6DjWasfn"
      },
      "source": [
        "### **Model Creation**"
      ]
    },
    {
      "cell_type": "code",
      "metadata": {
        "id": "4R3aFoE1I2it"
      },
      "source": [
        "#Hidden layers\n",
        "class DeepNeuralNetworkModel(nn.Module):\n",
        "    def __init__(self, input_size, num_classes, num_hidden):\n",
        "        super().__init__()\n",
        "        ### 1st hidden layer: input_size --> 200\n",
        "        self.linear_1 = nn.Linear(input_size, num_hidden)\n",
        "        ### Non-linearity in 1st hidden layer\n",
        "        self.relu_1 = nn.ELU()\n",
        "\n",
        "        ### 2nd hidden layer: 200 --> 200\n",
        "        self.linear_2 = nn.Linear(num_hidden, num_hidden)\n",
        "        ### Non-linearity in 2nd hidden layer\n",
        "        self.relu_2 = nn.ELU()\n",
        "\n",
        "        ### 3rd hidden layer: 200 --> 200\n",
        "        self.linear_3 = nn.Linear(num_hidden, num_hidden)\n",
        "        ### Non-linearity in 3rd hidden layer\n",
        "        self.relu_3 = nn.ELU()\n",
        "\n",
        "        ### 4th hidden layer: 200 --> 200\n",
        "        self.linear_4 = nn.Linear(num_hidden, num_hidden)\n",
        "        ### Non-linearity in 4th hidden layer\n",
        "        self.relu_4 = nn.ELU()\n",
        "\n",
        "        ### 5th hidden layer: 200 --> 200\n",
        "        self.linear_5 = nn.Linear(num_hidden, num_hidden)\n",
        "        ### Non-linearity in 5th hidden layer\n",
        "        self.relu_5 = nn.ELU()\n",
        "\n",
        "        ### 6th hidden layer: 200 --> 200\n",
        "        self.linear_6 = nn.Linear(num_hidden, num_hidden)\n",
        "        ### Non-linearity in 6th hidden layer\n",
        "        self.relu_6 = nn.ELU()\n",
        "\n",
        "        ### 7th hidden layer: 200 --> 200\n",
        "        self.linear_7 = nn.Linear(num_hidden, num_hidden)\n",
        "        ### Non-linearity in 7th hidden layer\n",
        "        self.relu_7 = nn.ELU()\n",
        "\n",
        "        ### 8th hidden layer: 200 --> 200\n",
        "        self.linear_8 = nn.Linear(num_hidden, num_hidden)\n",
        "        ### Non-linearity in 8th hidden layer\n",
        "        self.relu_8 = nn.ELU()\n",
        "\n",
        "        ### Output layer: 200 --> output_size(10)\n",
        "        self.linear_out = nn.Linear(num_hidden, num_classes)\n",
        "\n",
        "    def forward(self, x):\n",
        "        ### 1st hidden layer\n",
        "        out  = self.linear_1(x)\n",
        "        ### Non-linearity in 1st hidden layer\n",
        "        out = self.relu_1(out)\n",
        "        \n",
        "        ### 2nd hidden layer\n",
        "        out  = self.linear_2(out)\n",
        "        ### Non-linearity in 2nd hidden layer\n",
        "        out = self.relu_2(out)\n",
        "\n",
        "        ### 3rd hidden layer\n",
        "        out  = self.linear_3(out)\n",
        "        ### Non-linearity in 3rd hidden layer\n",
        "        out = self.relu_3(out)\n",
        "\n",
        "        ### 4th hidden layer\n",
        "        out  = self.linear_4(out)\n",
        "        ### Non-linearity in 4th hidden layer\n",
        "        out = self.relu_4(out)\n",
        "\n",
        "        ### 5th hidden layer\n",
        "        out  = self.linear_5(out)\n",
        "        ### Non-linearity in 5th hidden layer\n",
        "        out = self.relu_5(out)\n",
        "\n",
        "        ### 6th hidden layer\n",
        "        out  = self.linear_6(out)\n",
        "        ### Non-linearity in 6th hidden layer\n",
        "        out = self.relu_6(out)\n",
        "\n",
        "        ### 7th hidden layer\n",
        "        out  = self.linear_7(out)\n",
        "        ### Non-linearity in 7th hidden layer\n",
        "        out = self.relu_7(out)\n",
        "\n",
        "        ### 8th hidden layer\n",
        "        out  = self.linear_8(out)\n",
        "        ### Non-linearity in 8th hidden layer\n",
        "        out = self.relu_8(out)\n",
        "        \n",
        "        # Linear layer (output)\n",
        "        probas  = self.linear_out(out)\n",
        "        return probas"
      ],
      "execution_count": 7,
      "outputs": []
    },
    {
      "cell_type": "markdown",
      "metadata": {
        "id": "YplbD1mSR3aR"
      },
      "source": [
        "### **Dataset - 1 (Model Build, Accuracy, Prediction)**\n"
      ]
    },
    {
      "cell_type": "markdown",
      "metadata": {
        "id": "_ZowiiPvSSeK"
      },
      "source": [
        "**Model Build**"
      ]
    },
    {
      "cell_type": "code",
      "metadata": {
        "id": "caRlgwe8OwFE"
      },
      "source": [
        "batch_size = 60\n",
        "num_iters = 60000\n",
        "input_dim = 180*180 # num_features = 32400\n",
        "num_hidden = 200\n",
        "output_dim = 10\n",
        "learning_rate = 0.01\n",
        "\n",
        "model = DeepNeuralNetworkModel(input_size = input_dim,\n",
        "                               num_classes = output_dim,\n",
        "                               num_hidden = num_hidden)\n",
        "\n",
        "# Device\n",
        "device = torch.device(\"cuda:0\" if torch.cuda.is_available() else \"cpu\")\n",
        "\n",
        "# To enable GPU\n",
        "model.to(device)\n",
        "\n",
        "criterion = nn.CrossEntropyLoss()\n",
        "optimizer = torch.optim.ASGD(model.parameters(), lr=learning_rate)"
      ],
      "execution_count": 14,
      "outputs": []
    },
    {
      "cell_type": "markdown",
      "metadata": {
        "id": "xMnIvIAESWrM"
      },
      "source": [
        "**Accuracy**"
      ]
    },
    {
      "cell_type": "code",
      "metadata": {
        "colab": {
          "base_uri": "https://localhost:8080/"
        },
        "id": "p5qMslDYm2ja",
        "outputId": "811f2502-45d7-42f8-d90a-29398f55edd8"
      },
      "source": [
        "loss_data,iterations = [],[]\n",
        "accuracy_data = []\n",
        "iter = 0\n",
        "\n",
        "num_epochs = math.ceil(num_iters / (len(df_Train) / batch_size))\n",
        "\n",
        "train_loader = torch.utils.data.DataLoader(dataset=df_Train, \n",
        "                                          batch_size=batch_size, \n",
        "                                          shuffle=True)   # It's better to shuffle the whole training dataset! \n",
        "\n",
        "test_loader = torch.utils.data.DataLoader(dataset=df_Test, \n",
        "                                          batch_size=batch_size, \n",
        "                                          shuffle=False) \n",
        "\n",
        "for epoch in range(num_epochs):\n",
        "  for i, (images, labels) in enumerate(train_loader):\n",
        "\n",
        "      images = images.view(-1, 180*180).to(device)\n",
        "      labels = labels.to(device)\n",
        "\n",
        "      # Clear gradients w.r.t. parameters\n",
        "      optimizer.zero_grad()\n",
        "\n",
        "      # Forward pass to get output/logits\n",
        "      outputs = model(images) \n",
        "\n",
        "      # Calculate Loss: softmax --> cross entropy loss\n",
        "      loss = criterion(outputs, labels)\n",
        "\n",
        "      # Getting gradients w.r.t. parameters\n",
        "      loss.backward()\n",
        "\n",
        "      # Updating parameters\n",
        "      optimizer.step()\n",
        "\n",
        "      iter += 1\n",
        "      if iter > num_iters:\n",
        "        break;\n",
        "\n",
        "      if iter % 500 == 0:\n",
        "          # Calculate Accuracy         \n",
        "          correct = 0\n",
        "          total = 0\n",
        "          # Iterate through test dataset\n",
        "          for images, labels in test_loader:\n",
        "              \n",
        "              images = images.view(-1, 180*180).to(device)\n",
        "\n",
        "              # Forward pass only to get logits/output\n",
        "              outputs = model(images)\n",
        "\n",
        "              # Get predictions from the maximum value\n",
        "              _, predicted = torch.max(outputs, 1)\n",
        "\n",
        "              # Total number of labels\n",
        "              total += labels.size(0)\n",
        "              # print(predicted)\n",
        "\n",
        "\n",
        "              # Total correct predictions\n",
        "              if torch.cuda.is_available():\n",
        "                  correct += (predicted.cpu() == labels.cpu()).sum() \n",
        "              else:\n",
        "                  correct += (predicted == labels).sum()\n",
        "\n",
        "          accuracy = 100 * correct.item() / total\n",
        "\n",
        "          # save the loss and iteration\n",
        "          loss_data.append(round(loss.item(),4))\n",
        "          iterations.append(iter)\n",
        "\n",
        "          # Print Loss\n",
        "          print('Iteration: {}. Loss: {}. Accuracy: {}'.format(iter, round(loss.item(),4), round(accuracy,4)))"
      ],
      "execution_count": 15,
      "outputs": [
        {
          "output_type": "stream",
          "name": "stdout",
          "text": [
            "Iteration: 500. Loss: 2.3051. Accuracy: 10.3292\n",
            "Iteration: 1000. Loss: 2.2995. Accuracy: 12.037\n",
            "Iteration: 1500. Loss: 2.3038. Accuracy: 10.0412\n",
            "Iteration: 2000. Loss: 2.3. Accuracy: 9.7531\n",
            "Iteration: 2500. Loss: 2.2931. Accuracy: 13.0247\n",
            "Iteration: 3000. Loss: 2.2989. Accuracy: 17.3457\n",
            "Iteration: 3500. Loss: 2.2847. Accuracy: 21.5844\n",
            "Iteration: 4000. Loss: 2.4048. Accuracy: 13.6831\n",
            "Iteration: 4500. Loss: 2.2171. Accuracy: 18.251\n",
            "Iteration: 5000. Loss: 2.1616. Accuracy: 19.2181\n",
            "Iteration: 5500. Loss: 2.2119. Accuracy: 12.4897\n",
            "Iteration: 6000. Loss: 2.1955. Accuracy: 16.0082\n",
            "Iteration: 6500. Loss: 2.105. Accuracy: 21.5021\n",
            "Iteration: 7000. Loss: 1.973. Accuracy: 25.144\n",
            "Iteration: 7500. Loss: 2.0837. Accuracy: 28.2099\n",
            "Iteration: 8000. Loss: 1.9747. Accuracy: 26.7078\n",
            "Iteration: 8500. Loss: 1.9555. Accuracy: 36.5021\n",
            "Iteration: 9000. Loss: 1.9053. Accuracy: 34.4856\n",
            "Iteration: 9500. Loss: 2.216. Accuracy: 32.7572\n",
            "Iteration: 10000. Loss: 1.8081. Accuracy: 26.4609\n",
            "Iteration: 10500. Loss: 2.0861. Accuracy: 35.6173\n",
            "Iteration: 11000. Loss: 1.7849. Accuracy: 38.2305\n",
            "Iteration: 11500. Loss: 1.7794. Accuracy: 26.3992\n",
            "Iteration: 12000. Loss: 1.8874. Accuracy: 43.0247\n",
            "Iteration: 12500. Loss: 1.9731. Accuracy: 34.4033\n",
            "Iteration: 13000. Loss: 1.7339. Accuracy: 39.9588\n",
            "Iteration: 13500. Loss: 1.9004. Accuracy: 38.3951\n",
            "Iteration: 14000. Loss: 1.4713. Accuracy: 44.5473\n",
            "Iteration: 14500. Loss: 1.3261. Accuracy: 45.8848\n",
            "Iteration: 15000. Loss: 1.6936. Accuracy: 38.9095\n",
            "Iteration: 15500. Loss: 1.4308. Accuracy: 44.9177\n",
            "Iteration: 16000. Loss: 1.2133. Accuracy: 46.1728\n",
            "Iteration: 16500. Loss: 1.5744. Accuracy: 44.5473\n",
            "Iteration: 17000. Loss: 1.4491. Accuracy: 53.9095\n",
            "Iteration: 17500. Loss: 1.3249. Accuracy: 54.3827\n",
            "Iteration: 18000. Loss: 1.6961. Accuracy: 44.0329\n",
            "Iteration: 18500. Loss: 1.4957. Accuracy: 51.2757\n",
            "Iteration: 19000. Loss: 1.2364. Accuracy: 51.4198\n",
            "Iteration: 19500. Loss: 1.166. Accuracy: 60.1235\n",
            "Iteration: 20000. Loss: 0.9733. Accuracy: 58.8272\n",
            "Iteration: 20500. Loss: 1.1474. Accuracy: 53.2305\n",
            "Iteration: 21000. Loss: 0.9697. Accuracy: 60.7819\n",
            "Iteration: 21500. Loss: 1.1975. Accuracy: 58.6831\n",
            "Iteration: 22000. Loss: 1.1744. Accuracy: 55.5556\n",
            "Iteration: 22500. Loss: 0.9006. Accuracy: 65.679\n",
            "Iteration: 23000. Loss: 1.1629. Accuracy: 39.8148\n",
            "Iteration: 23500. Loss: 0.9586. Accuracy: 60.7407\n",
            "Iteration: 24000. Loss: 0.9795. Accuracy: 65.7819\n",
            "Iteration: 24500. Loss: 0.9435. Accuracy: 52.1399\n",
            "Iteration: 25000. Loss: 1.0851. Accuracy: 61.4198\n",
            "Iteration: 25500. Loss: 0.8982. Accuracy: 71.2551\n",
            "Iteration: 26000. Loss: 0.7005. Accuracy: 73.1481\n",
            "Iteration: 26500. Loss: 0.8384. Accuracy: 67.4897\n",
            "Iteration: 27000. Loss: 0.7045. Accuracy: 66.5638\n",
            "Iteration: 27500. Loss: 0.6667. Accuracy: 71.5021\n",
            "Iteration: 28000. Loss: 0.725. Accuracy: 69.5473\n",
            "Iteration: 28500. Loss: 0.6951. Accuracy: 69.7531\n",
            "Iteration: 29000. Loss: 0.7248. Accuracy: 66.6255\n",
            "Iteration: 29500. Loss: 0.4784. Accuracy: 75.9671\n",
            "Iteration: 30000. Loss: 0.8594. Accuracy: 76.3786\n",
            "Iteration: 30500. Loss: 0.656. Accuracy: 72.8601\n",
            "Iteration: 31000. Loss: 1.106. Accuracy: 71.214\n",
            "Iteration: 31500. Loss: 0.5769. Accuracy: 74.6091\n",
            "Iteration: 32000. Loss: 0.8393. Accuracy: 71.8724\n",
            "Iteration: 32500. Loss: 0.4881. Accuracy: 73.2305\n",
            "Iteration: 33000. Loss: 0.4957. Accuracy: 75.8642\n",
            "Iteration: 33500. Loss: 0.3983. Accuracy: 77.0576\n",
            "Iteration: 34000. Loss: 0.501. Accuracy: 74.0947\n",
            "Iteration: 34500. Loss: 1.1202. Accuracy: 72.6955\n",
            "Iteration: 35000. Loss: 0.6422. Accuracy: 69.856\n",
            "Iteration: 35500. Loss: 0.3396. Accuracy: 79.0741\n",
            "Iteration: 36000. Loss: 0.6752. Accuracy: 69.0123\n",
            "Iteration: 36500. Loss: 0.4532. Accuracy: 78.0247\n",
            "Iteration: 37000. Loss: 0.4211. Accuracy: 78.5597\n",
            "Iteration: 37500. Loss: 0.3147. Accuracy: 81.2963\n",
            "Iteration: 38000. Loss: 0.463. Accuracy: 74.8148\n",
            "Iteration: 38500. Loss: 0.3681. Accuracy: 80.8025\n",
            "Iteration: 39000. Loss: 0.345. Accuracy: 77.9835\n",
            "Iteration: 39500. Loss: 0.4055. Accuracy: 80.5556\n",
            "Iteration: 40000. Loss: 0.7682. Accuracy: 73.3333\n",
            "Iteration: 40500. Loss: 0.5581. Accuracy: 81.3992\n",
            "Iteration: 41000. Loss: 0.5565. Accuracy: 73.8477\n",
            "Iteration: 41500. Loss: 0.3678. Accuracy: 81.4815\n",
            "Iteration: 42000. Loss: 0.2042. Accuracy: 81.6667\n",
            "Iteration: 42500. Loss: 0.3232. Accuracy: 79.1358\n",
            "Iteration: 43000. Loss: 0.3935. Accuracy: 81.07\n",
            "Iteration: 43500. Loss: 0.6321. Accuracy: 72.963\n",
            "Iteration: 44000. Loss: 0.4306. Accuracy: 80.2469\n",
            "Iteration: 44500. Loss: 0.2358. Accuracy: 82.8395\n",
            "Iteration: 45000. Loss: 0.169. Accuracy: 81.6255\n",
            "Iteration: 45500. Loss: 0.3347. Accuracy: 80.823\n",
            "Iteration: 46000. Loss: 0.2879. Accuracy: 81.3169\n",
            "Iteration: 46500. Loss: 0.1787. Accuracy: 80.4733\n",
            "Iteration: 47000. Loss: 0.1766. Accuracy: 83.1481\n",
            "Iteration: 47500. Loss: 0.4065. Accuracy: 79.3004\n",
            "Iteration: 48000. Loss: 0.1848. Accuracy: 81.5432\n",
            "Iteration: 48500. Loss: 0.1852. Accuracy: 84.0123\n",
            "Iteration: 49000. Loss: 0.5323. Accuracy: 70.1852\n",
            "Iteration: 49500. Loss: 0.15. Accuracy: 81.5432\n",
            "Iteration: 50000. Loss: 0.3926. Accuracy: 79.1975\n",
            "Iteration: 50500. Loss: 0.1537. Accuracy: 83.3745\n",
            "Iteration: 51000. Loss: 0.2505. Accuracy: 80.9671\n",
            "Iteration: 51500. Loss: 0.1498. Accuracy: 84.1358\n",
            "Iteration: 52000. Loss: 0.1242. Accuracy: 83.1893\n",
            "Iteration: 52500. Loss: 0.0888. Accuracy: 84.3416\n",
            "Iteration: 53000. Loss: 0.2286. Accuracy: 83.5185\n",
            "Iteration: 53500. Loss: 0.1242. Accuracy: 83.4774\n",
            "Iteration: 54000. Loss: 0.2693. Accuracy: 82.0782\n",
            "Iteration: 54500. Loss: 0.1725. Accuracy: 84.5679\n",
            "Iteration: 55000. Loss: 0.2171. Accuracy: 81.1934\n",
            "Iteration: 55500. Loss: 0.1191. Accuracy: 84.5473\n",
            "Iteration: 56000. Loss: 0.2329. Accuracy: 82.9218\n",
            "Iteration: 56500. Loss: 0.1657. Accuracy: 84.4033\n",
            "Iteration: 57000. Loss: 0.098. Accuracy: 82.4486\n",
            "Iteration: 57500. Loss: 0.0644. Accuracy: 84.7119\n",
            "Iteration: 58000. Loss: 0.0686. Accuracy: 84.2181\n",
            "Iteration: 58500. Loss: 0.3107. Accuracy: 81.1317\n",
            "Iteration: 59000. Loss: 0.0664. Accuracy: 85.0823\n",
            "Iteration: 59500. Loss: 0.185. Accuracy: 82.0165\n",
            "Iteration: 60000. Loss: 0.1623. Accuracy: 83.5185\n"
          ]
        }
      ]
    },
    {
      "cell_type": "markdown",
      "metadata": {
        "id": "yNwkm3CuSjny"
      },
      "source": [
        "**Prediction**"
      ]
    },
    {
      "cell_type": "code",
      "metadata": {
        "colab": {
          "base_uri": "https://localhost:8080/",
          "height": 280
        },
        "id": "uqBohu_O2b-f",
        "outputId": "06ada50f-d4cf-46c2-8e37-fb2006f62292"
      },
      "source": [
        "num_predictions = 10\n",
        "\n",
        "for images, labels in test_loader:\n",
        "    break\n",
        "\n",
        "predictions = model.forward(images[0:num_predictions].view(-1, 180*180).to(device))\n",
        "predictions = torch.argmax(predictions, dim=1)\n",
        "\n",
        "print('Actual Values for Dataset 1: ')\n",
        "plt.figure(figsize=(14,14))\n",
        "for i in range(num_predictions):\n",
        "    ax=plt.subplot(1,num_predictions,i+1)\n",
        "    ax.title.set_text(labels[i].item())\n",
        "    plt.imshow(images[i].view(180, 180), cmap=plt.cm.binary)\n",
        "\n",
        "plt.show()\n",
        "\n",
        "print('Predicted Values for Dataset 1: ')\n",
        "plt.figure(figsize=(14,14))\n",
        "for i in range(num_predictions):\n",
        "    ax=plt.subplot(1,num_predictions,i+1)\n",
        "    ax.title.set_text(predictions[i].item())\n",
        "    plt.imshow(images[i].view(180, 180), cmap=plt.cm.binary)\n",
        "\n",
        "plt.show()"
      ],
      "execution_count": 16,
      "outputs": [
        {
          "output_type": "stream",
          "name": "stdout",
          "text": [
            "Actual Values for Dataset 1: \n"
          ]
        },
        {
          "output_type": "display_data",
          "data": {
            "image/png": "[encoded data removed]",
            "text/plain": [
              "<Figure size 1008x1008 with 10 Axes>"
            ]
          },
          "metadata": {
            "needs_background": "light"
          }
        },
        {
          "output_type": "stream",
          "name": "stdout",
          "text": [
            "Predicted Values for Dataset 1: \n"
          ]
        },
        {
          "output_type": "display_data",
          "data": {
            "image/png": "[encoded data removed]",
            "text/plain": [
              "<Figure size 1008x1008 with 10 Axes>"
            ]
          },
          "metadata": {
            "needs_background": "light"
          }
        }
      ]
    },
    {
      "cell_type": "markdown",
      "metadata": {
        "id": "p0K2xEH_S6YN"
      },
      "source": [
        "### **Loss Curve of Dataset -1**"
      ]
    },
    {
      "cell_type": "code",
      "metadata": {
        "colab": {
          "base_uri": "https://localhost:8080/",
          "height": 513
        },
        "id": "hd67iRRq6Zlo",
        "outputId": "3930e46f-4a92-4735-c1c8-8bdc0cb6b33e"
      },
      "source": [
        "plt.figure(figsize=(12,8))\n",
        "plt.plot(iterations,loss_data,marker='o')\n",
        "plt.title('Loss vs Iterations Curve')\n",
        "plt.xlabel('Iterations')\n",
        "plt.ylabel('Loss')\n",
        "plt.show()"
      ],
      "execution_count": 18,
      "outputs": [
        {
          "output_type": "display_data",
          "data": {
            "image/png": "[encoded data removed]",
            "text/plain": [
              "<Figure size 864x576 with 1 Axes>"
            ]
          },
          "metadata": {
            "needs_background": "light"
          }
        }
      ]
    },
    {
      "cell_type": "markdown",
      "metadata": {
        "id": "mBCUxqrPRp-S"
      },
      "source": [
        "## **Step - 3**"
      ]
    },
    {
      "cell_type": "markdown",
      "metadata": {
        "id": "b4garZF0TMEC"
      },
      "source": [
        "### **Train & Test Creation (Dataset - 2)**"
      ]
    },
    {
      "cell_type": "code",
      "metadata": {
        "id": "bU0Cf-5CBfTt"
      },
      "source": [
        "# label store\n",
        "Train2_digits = np.array(df2_Train['label'])\n",
        "Test2_digits = np.array(df2_Test['label'])\n",
        "\n",
        "# label drop\n",
        "df2_Train.drop(['label'],axis=1,inplace=True)\n",
        "df2_Test.drop(['label'],axis=1,inplace=True)\n",
        "\n",
        "# Image pixel convertion into numpy(uint8 datatype)\n",
        "Train2_img = np.array(df2_Train, dtype=np.uint8)\n",
        "Test2_img = np.array(df2_Test, dtype=np.uint8)"
      ],
      "execution_count": 19,
      "outputs": []
    },
    {
      "cell_type": "markdown",
      "metadata": {
        "id": "W7ZUVONFUrOv"
      },
      "source": [
        "### **Image Data Creation (Dataset - 2)**"
      ]
    },
    {
      "cell_type": "code",
      "metadata": {
        "colab": {
          "base_uri": "https://localhost:8080/"
        },
        "id": "C8qqVAOGBjot",
        "outputId": "ae9b7955-ba2f-4b53-c99c-ccd210a2e1a8"
      },
      "source": [
        "Train2_imgTN = []\n",
        "Test2_imgTN = []\n",
        "\n",
        "transformer=transforms.Compose([\n",
        "    transforms.ToPILImage(),\n",
        "    transforms.ToTensor(),\n",
        "    transforms.Normalize([0.5], [0.5])                         \n",
        "])\n",
        "\n",
        "matrixNum = int(math.sqrt(len(df2_Test.columns)))         #features=784, Sqrt(784)=28, 28*28 image\n",
        "\n",
        "# Tensor transformation and normalization for Train Data\n",
        "for index, data in enumerate(Train2_img,start=0):\n",
        "  image = data.reshape(matrixNum,matrixNum)\n",
        "  image_Ttrans2 = transformer(image)\n",
        "  Train2_imgTN.append((image_Ttrans2,Train2_digits[index]))\n",
        "\n",
        "# Tensor transformation and normalization for Test Data\n",
        "for index, data in enumerate(Test2_img,start=0):\n",
        "  image = data.reshape(matrixNum,matrixNum)\n",
        "  image_Ttrans2 = transformer(image)\n",
        "  Test2_imgTN.append((image_Ttrans2,Test2_digits[index]))\n",
        "\n",
        "print('Train Data: ', len(Train2_imgTN))\n",
        "print('Test Data: ', len(Test2_imgTN))"
      ],
      "execution_count": 20,
      "outputs": [
        {
          "output_type": "stream",
          "name": "stdout",
          "text": [
            "Train Data:  60000\n",
            "Test Data:  10000\n"
          ]
        }
      ]
    },
    {
      "cell_type": "markdown",
      "metadata": {
        "id": "_XHfIGSrU4bm"
      },
      "source": [
        "### **Dataset - 2 (Model Build, Accuracy, Prediction)**"
      ]
    },
    {
      "cell_type": "markdown",
      "metadata": {
        "id": "_dM3jRaXU6r3"
      },
      "source": [
        "**Model Build**"
      ]
    },
    {
      "cell_type": "code",
      "metadata": {
        "id": "zrqolLk2IKiU"
      },
      "source": [
        "batch_size = 60\n",
        "num_iters = 60000\n",
        "input_dim = matrixNum*matrixNum\n",
        "num_hidden = 200\n",
        "output_dim = 10\n",
        "learning_rate = 0.01\n",
        "\n",
        "\n",
        "model2 = DeepNeuralNetworkModel(input_size = input_dim,\n",
        "                               num_classes = output_dim,\n",
        "                               num_hidden = num_hidden)\n",
        "\n",
        "# Device\n",
        "device = torch.device(\"cuda:0\" if torch.cuda.is_available() else \"cpu\")\n",
        "\n",
        "# To enable GPU\n",
        "model2.to(device)\n",
        "\n",
        "criterion = nn.CrossEntropyLoss()\n",
        "optimizer = torch.optim.SGD(model2.parameters(), lr=learning_rate)"
      ],
      "execution_count": 22,
      "outputs": []
    },
    {
      "cell_type": "markdown",
      "metadata": {
        "id": "M28wmzznU-vi"
      },
      "source": [
        "**Accuracy**"
      ]
    },
    {
      "cell_type": "code",
      "metadata": {
        "colab": {
          "base_uri": "https://localhost:8080/"
        },
        "id": "HVFsUZO4I1k-",
        "outputId": "879b35c1-9556-461b-e6ca-e2dd965a3341"
      },
      "source": [
        "loss_data2,iterations2 = [],[]\n",
        "accuracy_data2 = []\n",
        "iter = 0\n",
        "\n",
        "num_epochs = round(num_iters / (len(Train2_imgTN) / batch_size))\n",
        "\n",
        "train_loader2 = torch.utils.data.DataLoader(dataset=Train2_imgTN, \n",
        "                                           batch_size=batch_size, \n",
        "                                           shuffle=True)   # It's better to shuffle the whole training dataset! \n",
        "\n",
        "test_loader2 = torch.utils.data.DataLoader(dataset=Test2_imgTN, \n",
        "                                          batch_size=batch_size, \n",
        "                                          shuffle=False) \n",
        "\n",
        "for epoch in range(num_epochs):\n",
        "    for i, (images, labels) in enumerate(train_loader2):\n",
        "\n",
        "        images = images.view(-1, matrixNum*matrixNum).to(device)\n",
        "        labels = labels.to(device)\n",
        "\n",
        "        # Clear gradients w.r.t. parameters\n",
        "        optimizer.zero_grad()\n",
        "\n",
        "        # Forward pass to get output/logits\n",
        "        outputs = model2(images) \n",
        "\n",
        "\n",
        "        # Calculate Loss: softmax --> cross entropy loss\n",
        "        loss = criterion(outputs, labels)\n",
        "\n",
        "        # Getting gradients w.r.t. parameters\n",
        "        loss.backward()\n",
        "\n",
        "        # Updating parameters\n",
        "        optimizer.step()\n",
        "\n",
        "        iter += 1\n",
        "        if iter > 20000:\n",
        "          break;\n",
        "\n",
        "        if iter % 500 == 0:\n",
        "            # Calculate Accuracy         \n",
        "            correct = 0\n",
        "            total = 0\n",
        "            # Iterate through test dataset\n",
        "            for images, labels in test_loader2:\n",
        "                images = images.view(-1, matrixNum*matrixNum).to(device)\n",
        "\n",
        "                # Forward pass only to get logits/output\n",
        "                outputs = model2(images)\n",
        "\n",
        "                # Get predictions from the maximum value\n",
        "                _, predicted = torch.max(outputs, 1)\n",
        "\n",
        "                # Total number of labels\n",
        "                total += labels.size(0)\n",
        "                # print(predicted)\n",
        "\n",
        "\n",
        "                # Total correct predictions\n",
        "                if torch.cuda.is_available():\n",
        "                    correct += (predicted.cpu() == labels.cpu()).sum() \n",
        "                else:\n",
        "                    correct += (predicted == labels).sum()\n",
        "\n",
        "            accuracy = 100 * correct.item() / total\n",
        "\n",
        "\n",
        "            # Print Loss\n",
        "            print('Iteration: {}. Loss: {}. Accuracy: {}'.format(iter, round(loss.item(),4), accuracy))"
      ],
      "execution_count": 23,
      "outputs": [
        {
          "output_type": "stream",
          "name": "stdout",
          "text": [
            "Iteration: 500. Loss: 2.2772. Accuracy: 19.53\n",
            "Iteration: 1000. Loss: 1.6556. Accuracy: 21.98\n",
            "Iteration: 1500. Loss: 1.4613. Accuracy: 46.64\n",
            "Iteration: 2000. Loss: 1.1894. Accuracy: 63.57\n",
            "Iteration: 2500. Loss: 0.8954. Accuracy: 64.54\n",
            "Iteration: 3000. Loss: 0.6994. Accuracy: 69.97\n",
            "Iteration: 3500. Loss: 0.8982. Accuracy: 70.1\n",
            "Iteration: 4000. Loss: 0.9477. Accuracy: 75.37\n",
            "Iteration: 4500. Loss: 0.6978. Accuracy: 75.8\n",
            "Iteration: 5000. Loss: 0.5029. Accuracy: 79.59\n",
            "Iteration: 5500. Loss: 0.6303. Accuracy: 79.31\n",
            "Iteration: 6000. Loss: 0.4513. Accuracy: 80.73\n",
            "Iteration: 6500. Loss: 0.5375. Accuracy: 82.58\n",
            "Iteration: 7000. Loss: 0.3927. Accuracy: 82.5\n",
            "Iteration: 7500. Loss: 0.5922. Accuracy: 83.53\n",
            "Iteration: 8000. Loss: 0.5335. Accuracy: 82.53\n",
            "Iteration: 8500. Loss: 0.5478. Accuracy: 83.99\n",
            "Iteration: 9000. Loss: 0.5363. Accuracy: 82.78\n",
            "Iteration: 9500. Loss: 0.6352. Accuracy: 84.14\n",
            "Iteration: 10000. Loss: 0.476. Accuracy: 84.2\n",
            "Iteration: 10500. Loss: 0.3756. Accuracy: 84.79\n",
            "Iteration: 11000. Loss: 0.4347. Accuracy: 84.33\n",
            "Iteration: 11500. Loss: 0.198. Accuracy: 85.29\n",
            "Iteration: 12000. Loss: 0.5386. Accuracy: 85.01\n",
            "Iteration: 12500. Loss: 0.3279. Accuracy: 85.03\n",
            "Iteration: 13000. Loss: 0.6901. Accuracy: 80.8\n",
            "Iteration: 13500. Loss: 0.3671. Accuracy: 85.89\n",
            "Iteration: 14000. Loss: 0.3291. Accuracy: 86.11\n",
            "Iteration: 14500. Loss: 0.3352. Accuracy: 86.39\n",
            "Iteration: 15000. Loss: 0.3779. Accuracy: 86.3\n",
            "Iteration: 15500. Loss: 0.2494. Accuracy: 86.02\n",
            "Iteration: 16000. Loss: 0.2369. Accuracy: 86.24\n",
            "Iteration: 16500. Loss: 0.4743. Accuracy: 86.08\n",
            "Iteration: 17000. Loss: 0.3625. Accuracy: 86.03\n",
            "Iteration: 17500. Loss: 0.2876. Accuracy: 86.07\n",
            "Iteration: 18000. Loss: 0.3845. Accuracy: 86.4\n",
            "Iteration: 18500. Loss: 0.368. Accuracy: 86.15\n",
            "Iteration: 19000. Loss: 0.2084. Accuracy: 86.56\n",
            "Iteration: 19500. Loss: 0.243. Accuracy: 86.73\n",
            "Iteration: 20000. Loss: 0.377. Accuracy: 86.89\n"
          ]
        }
      ]
    },
    {
      "cell_type": "markdown",
      "metadata": {
        "id": "04wyArcMVBsa"
      },
      "source": [
        "**Prediction**"
      ]
    },
    {
      "cell_type": "code",
      "metadata": {
        "colab": {
          "base_uri": "https://localhost:8080/",
          "height": 280
        },
        "id": "eiqZaKwcKPrJ",
        "outputId": "bb26df51-079b-4a71-b9a0-f545504ec68e"
      },
      "source": [
        "num_predictions = 10\n",
        "\n",
        "for images, labels in test_loader2:\n",
        "    break\n",
        "\n",
        "predictions = model2.forward(images[0:num_predictions].view(-1, matrixNum*matrixNum).to(device))\n",
        "predictions = torch.argmax(predictions, dim=1)\n",
        "\n",
        "print('Actual Values for Dataset 2: ')\n",
        "plt.figure(figsize=(14,14))\n",
        "for i in range(num_predictions):\n",
        "    ax=plt.subplot(1,num_predictions,i+1)\n",
        "    ax.title.set_text(labels[i].item())\n",
        "    plt.imshow(images[i].view(matrixNum, matrixNum), cmap=plt.cm.binary)\n",
        "\n",
        "plt.show()\n",
        "\n",
        "print('Predicted Values for Dataset 2: ')\n",
        "plt.figure(figsize=(14,14))\n",
        "for i in range(num_predictions):\n",
        "    ax=plt.subplot(1,num_predictions,i+1)\n",
        "    ax.title.set_text(predictions[i].item())\n",
        "    plt.imshow(images[i].view(matrixNum, matrixNum), cmap=plt.cm.binary)\n",
        "\n",
        "plt.show()"
      ],
      "execution_count": 25,
      "outputs": [
        {
          "output_type": "stream",
          "name": "stdout",
          "text": [
            "Actual Values for Dataset 2: \n"
          ]
        },
        {
          "output_type": "display_data",
          "data": {
            "image/png": "[encoded data removed]",
            "text/plain": [
              "<Figure size 1008x1008 with 10 Axes>"
            ]
          },
          "metadata": {
            "needs_background": "light"
          }
        },
        {
          "output_type": "stream",
          "name": "stdout",
          "text": [
            "Predicted Values for Dataset 2: \n"
          ]
        },
        {
          "output_type": "display_data",
          "data": {
            "image/png": "[encoded data removed]",
            "text/plain": [
              "<Figure size 1008x1008 with 10 Axes>"
            ]
          },
          "metadata": {
            "needs_background": "light"
          }
        }
      ]
    }
  ]
}